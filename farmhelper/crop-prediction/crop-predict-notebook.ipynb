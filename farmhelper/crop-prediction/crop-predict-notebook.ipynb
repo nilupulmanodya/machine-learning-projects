{
  "nbformat": 4,
  "nbformat_minor": 0,
  "metadata": {
    "kernelspec": {
      "display_name": "Python 3",
      "language": "python",
      "name": "python3"
    },
    "language_info": {
      "codemirror_mode": {
        "name": "ipython",
        "version": 3
      },
      "file_extension": ".py",
      "mimetype": "text/x-python",
      "name": "python",
      "nbconvert_exporter": "python",
      "pygments_lexer": "ipython3",
      "version": "3.7.6"
    },
    "papermill": {
      "duration": 18.192047,
      "end_time": "2020-12-25T17:43:16.257975",
      "environment_variables": {},
      "exception": null,
      "input_path": "__notebook__.ipynb",
      "output_path": "__notebook__.ipynb",
      "parameters": {},
      "start_time": "2020-12-25T17:42:58.065928",
      "version": "2.1.0"
    },
    "colab": {
      "name": "what-crop-to-grow.ipynb",
      "provenance": []
    }
  },
  "cells": [
    {
      "cell_type": "code",
      "metadata": {
        "colab": {
          "base_uri": "https://localhost:8080/"
        },
        "id": "9eSx_Dd7iuj8",
        "outputId": "a5b805bf-14c8-46c1-d2d5-a336d8021fdc"
      },
      "source": [
        "!pip install kaggle"
      ],
      "execution_count": null,
      "outputs": [
        {
          "output_type": "stream",
          "name": "stdout",
          "text": [
            "Requirement already satisfied: kaggle in /usr/local/lib/python3.7/dist-packages (1.5.12)\n",
            "Requirement already satisfied: python-slugify in /usr/local/lib/python3.7/dist-packages (from kaggle) (5.0.2)\n",
            "Requirement already satisfied: requests in /usr/local/lib/python3.7/dist-packages (from kaggle) (2.23.0)\n",
            "Requirement already satisfied: python-dateutil in /usr/local/lib/python3.7/dist-packages (from kaggle) (2.8.2)\n",
            "Requirement already satisfied: tqdm in /usr/local/lib/python3.7/dist-packages (from kaggle) (4.62.3)\n",
            "Requirement already satisfied: six>=1.10 in /usr/local/lib/python3.7/dist-packages (from kaggle) (1.15.0)\n",
            "Requirement already satisfied: certifi in /usr/local/lib/python3.7/dist-packages (from kaggle) (2021.10.8)\n",
            "Requirement already satisfied: urllib3 in /usr/local/lib/python3.7/dist-packages (from kaggle) (1.24.3)\n",
            "Requirement already satisfied: text-unidecode>=1.3 in /usr/local/lib/python3.7/dist-packages (from python-slugify->kaggle) (1.3)\n",
            "Requirement already satisfied: chardet<4,>=3.0.2 in /usr/local/lib/python3.7/dist-packages (from requests->kaggle) (3.0.4)\n",
            "Requirement already satisfied: idna<3,>=2.5 in /usr/local/lib/python3.7/dist-packages (from requests->kaggle) (2.10)\n"
          ]
        }
      ]
    },
    {
      "cell_type": "code",
      "metadata": {
        "id": "s1U6bFkji8xU"
      },
      "source": [
        "mkdir ~/.kaggle"
      ],
      "execution_count": null,
      "outputs": []
    },
    {
      "cell_type": "code",
      "metadata": {
        "id": "kokXjbmyi-VU"
      },
      "source": [
        "cp kaggle.json ~/.kaggle/"
      ],
      "execution_count": 3,
      "outputs": []
    },
    {
      "cell_type": "code",
      "metadata": {
        "id": "g-u-Qkp9kfrA"
      },
      "source": [
        "! chmod 600 ~/.kaggle/kaggle.json"
      ],
      "execution_count": 5,
      "outputs": []
    },
    {
      "cell_type": "code",
      "metadata": {
        "colab": {
          "base_uri": "https://localhost:8080/"
        },
        "id": "A-5kPYojkeTg",
        "outputId": "9d3df6e5-a16c-4e1e-b562-e14d5467b9f1"
      },
      "source": [
        "! kaggle datasets download atharvaingle/crop-recommendation-dataset"
      ],
      "execution_count": 6,
      "outputs": [
        {
          "output_type": "stream",
          "name": "stdout",
          "text": [
            "Downloading crop-recommendation-dataset.zip to /content\n",
            "\r  0% 0.00/63.7k [00:00<?, ?B/s]\n",
            "\r100% 63.7k/63.7k [00:00<00:00, 27.2MB/s]\n"
          ]
        }
      ]
    },
    {
      "cell_type": "code",
      "metadata": {
        "id": "jwaS4VVDjAME"
      },
      "source": [
        "#link_for_ds = \"https://www.kaggle.com/atharvaingle/what-crop-to-grow/data\""
      ],
      "execution_count": 7,
      "outputs": []
    },
    {
      "cell_type": "code",
      "metadata": {
        "colab": {
          "base_uri": "https://localhost:8080/"
        },
        "id": "qRJMiqkskbAk",
        "outputId": "9eb5fe41-7c16-4aab-c0d4-54b82f04cc05"
      },
      "source": [
        "!unzip crop-recommendation-dataset"
      ],
      "execution_count": 8,
      "outputs": [
        {
          "output_type": "stream",
          "name": "stdout",
          "text": [
            "Archive:  crop-recommendation-dataset.zip\n",
            "  inflating: Crop_recommendation.csv  \n"
          ]
        }
      ]
    },
    {
      "cell_type": "code",
      "metadata": {
        "execution": {
          "iopub.execute_input": "2020-12-25T17:43:02.667839Z",
          "iopub.status.busy": "2020-12-25T17:43:02.667308Z",
          "iopub.status.idle": "2020-12-25T17:43:03.833552Z",
          "shell.execute_reply": "2020-12-25T17:43:03.833971Z"
        },
        "papermill": {
          "duration": 1.19661,
          "end_time": "2020-12-25T17:43:03.834142",
          "exception": false,
          "start_time": "2020-12-25T17:43:02.637532",
          "status": "completed"
        },
        "tags": [],
        "id": "P4lG-h--ib3E"
      },
      "source": [
        "# Importing libraries\n",
        "\n",
        "from __future__ import print_function\n",
        "import pandas as pd\n",
        "import numpy as np\n",
        "import matplotlib.pyplot as plt\n",
        "import seaborn as sns\n",
        "from sklearn.metrics import classification_report\n",
        "from sklearn import metrics\n",
        "from sklearn import tree\n",
        "import warnings\n",
        "warnings.filterwarnings('ignore')"
      ],
      "execution_count": 9,
      "outputs": []
    },
    {
      "cell_type": "code",
      "metadata": {
        "execution": {
          "iopub.execute_input": "2020-12-25T17:43:03.904908Z",
          "iopub.status.busy": "2020-12-25T17:43:03.904244Z",
          "iopub.status.idle": "2020-12-25T17:43:03.923799Z",
          "shell.execute_reply": "2020-12-25T17:43:03.923260Z"
        },
        "papermill": {
          "duration": 0.061182,
          "end_time": "2020-12-25T17:43:03.923887",
          "exception": false,
          "start_time": "2020-12-25T17:43:03.862705",
          "status": "completed"
        },
        "tags": [],
        "id": "-l_Fv67Iib3E"
      },
      "source": [
        "df = pd.read_csv('Crop_recommendation.csv')"
      ],
      "execution_count": 58,
      "outputs": []
    },
    {
      "cell_type": "code",
      "metadata": {
        "execution": {
          "iopub.execute_input": "2020-12-25T17:43:03.994102Z",
          "iopub.status.busy": "2020-12-25T17:43:03.987500Z",
          "iopub.status.idle": "2020-12-25T17:43:04.003587Z",
          "shell.execute_reply": "2020-12-25T17:43:04.003999Z"
        },
        "papermill": {
          "duration": 0.052002,
          "end_time": "2020-12-25T17:43:04.004101",
          "exception": false,
          "start_time": "2020-12-25T17:43:03.952099",
          "status": "completed"
        },
        "tags": [],
        "id": "xaZJT03gib3E",
        "colab": {
          "base_uri": "https://localhost:8080/",
          "height": 206
        },
        "outputId": "189a7818-b65a-45ab-a0fd-a21703b49595"
      },
      "source": [
        "df.head()"
      ],
      "execution_count": 46,
      "outputs": [
        {
          "output_type": "execute_result",
          "data": {
            "text/html": [
              "<div>\n",
              "<style scoped>\n",
              "    .dataframe tbody tr th:only-of-type {\n",
              "        vertical-align: middle;\n",
              "    }\n",
              "\n",
              "    .dataframe tbody tr th {\n",
              "        vertical-align: top;\n",
              "    }\n",
              "\n",
              "    .dataframe thead th {\n",
              "        text-align: right;\n",
              "    }\n",
              "</style>\n",
              "<table border=\"1\" class=\"dataframe\">\n",
              "  <thead>\n",
              "    <tr style=\"text-align: right;\">\n",
              "      <th></th>\n",
              "      <th>N</th>\n",
              "      <th>P</th>\n",
              "      <th>K</th>\n",
              "      <th>temperature</th>\n",
              "      <th>humidity</th>\n",
              "      <th>ph</th>\n",
              "      <th>rainfall</th>\n",
              "      <th>label</th>\n",
              "    </tr>\n",
              "  </thead>\n",
              "  <tbody>\n",
              "    <tr>\n",
              "      <th>1</th>\n",
              "      <td>85</td>\n",
              "      <td>58</td>\n",
              "      <td>41</td>\n",
              "      <td>21.770462</td>\n",
              "      <td>80.319644</td>\n",
              "      <td>7.038096</td>\n",
              "      <td>226.655537</td>\n",
              "      <td>rice</td>\n",
              "    </tr>\n",
              "    <tr>\n",
              "      <th>2</th>\n",
              "      <td>60</td>\n",
              "      <td>55</td>\n",
              "      <td>44</td>\n",
              "      <td>23.004459</td>\n",
              "      <td>82.320763</td>\n",
              "      <td>7.840207</td>\n",
              "      <td>263.964248</td>\n",
              "      <td>rice</td>\n",
              "    </tr>\n",
              "    <tr>\n",
              "      <th>3</th>\n",
              "      <td>74</td>\n",
              "      <td>35</td>\n",
              "      <td>40</td>\n",
              "      <td>26.491096</td>\n",
              "      <td>80.158363</td>\n",
              "      <td>6.980401</td>\n",
              "      <td>242.864034</td>\n",
              "      <td>rice</td>\n",
              "    </tr>\n",
              "    <tr>\n",
              "      <th>4</th>\n",
              "      <td>78</td>\n",
              "      <td>42</td>\n",
              "      <td>42</td>\n",
              "      <td>20.130175</td>\n",
              "      <td>81.604873</td>\n",
              "      <td>7.628473</td>\n",
              "      <td>262.717340</td>\n",
              "      <td>rice</td>\n",
              "    </tr>\n",
              "    <tr>\n",
              "      <th>5</th>\n",
              "      <td>69</td>\n",
              "      <td>37</td>\n",
              "      <td>42</td>\n",
              "      <td>23.058049</td>\n",
              "      <td>83.370118</td>\n",
              "      <td>7.073454</td>\n",
              "      <td>251.055000</td>\n",
              "      <td>rice</td>\n",
              "    </tr>\n",
              "  </tbody>\n",
              "</table>\n",
              "</div>"
            ],
            "text/plain": [
              "    N   P   K  temperature   humidity        ph    rainfall label\n",
              "1  85  58  41    21.770462  80.319644  7.038096  226.655537  rice\n",
              "2  60  55  44    23.004459  82.320763  7.840207  263.964248  rice\n",
              "3  74  35  40    26.491096  80.158363  6.980401  242.864034  rice\n",
              "4  78  42  42    20.130175  81.604873  7.628473  262.717340  rice\n",
              "5  69  37  42    23.058049  83.370118  7.073454  251.055000  rice"
            ]
          },
          "metadata": {},
          "execution_count": 46
        }
      ]
    },
    {
      "cell_type": "code",
      "metadata": {
        "execution": {
          "iopub.execute_input": "2020-12-25T17:43:04.134317Z",
          "iopub.status.busy": "2020-12-25T17:43:04.133783Z",
          "iopub.status.idle": "2020-12-25T17:43:04.138137Z",
          "shell.execute_reply": "2020-12-25T17:43:04.138570Z"
        },
        "papermill": {
          "duration": 0.036159,
          "end_time": "2020-12-25T17:43:04.138677",
          "exception": false,
          "start_time": "2020-12-25T17:43:04.102518",
          "status": "completed"
        },
        "tags": [],
        "id": "wiqZqZeRib3E",
        "colab": {
          "base_uri": "https://localhost:8080/"
        },
        "outputId": "469bfb96-cfb1-466c-bde9-450a9ceeead7"
      },
      "source": [
        "df.size"
      ],
      "execution_count": 48,
      "outputs": [
        {
          "output_type": "execute_result",
          "data": {
            "text/plain": [
              "17600"
            ]
          },
          "metadata": {},
          "execution_count": 48
        }
      ]
    },
    {
      "cell_type": "code",
      "metadata": {
        "execution": {
          "iopub.execute_input": "2020-12-25T17:43:04.202095Z",
          "iopub.status.busy": "2020-12-25T17:43:04.201299Z",
          "iopub.status.idle": "2020-12-25T17:43:04.204391Z",
          "shell.execute_reply": "2020-12-25T17:43:04.203867Z"
        },
        "papermill": {
          "duration": 0.036024,
          "end_time": "2020-12-25T17:43:04.204476",
          "exception": false,
          "start_time": "2020-12-25T17:43:04.168452",
          "status": "completed"
        },
        "tags": [],
        "id": "Kis8FeJOib3E",
        "colab": {
          "base_uri": "https://localhost:8080/"
        },
        "outputId": "0cf48c93-ebca-42df-bea5-5334be21be6d"
      },
      "source": [
        "df.shape"
      ],
      "execution_count": 49,
      "outputs": [
        {
          "output_type": "execute_result",
          "data": {
            "text/plain": [
              "(2200, 8)"
            ]
          },
          "metadata": {},
          "execution_count": 49
        }
      ]
    },
    {
      "cell_type": "code",
      "metadata": {
        "execution": {
          "iopub.execute_input": "2020-12-25T17:43:04.268677Z",
          "iopub.status.busy": "2020-12-25T17:43:04.268159Z",
          "iopub.status.idle": "2020-12-25T17:43:04.271432Z",
          "shell.execute_reply": "2020-12-25T17:43:04.271854Z"
        },
        "papermill": {
          "duration": 0.037048,
          "end_time": "2020-12-25T17:43:04.271958",
          "exception": false,
          "start_time": "2020-12-25T17:43:04.234910",
          "status": "completed"
        },
        "tags": [],
        "id": "tvrNp7wdib3E",
        "colab": {
          "base_uri": "https://localhost:8080/"
        },
        "outputId": "d2382f2d-0b96-4763-ffbf-c3fe6ad090e8"
      },
      "source": [
        "df.columns"
      ],
      "execution_count": 50,
      "outputs": [
        {
          "output_type": "execute_result",
          "data": {
            "text/plain": [
              "Index(['N', 'P', 'K', 'temperature', 'humidity', 'ph', 'rainfall', 'label'], dtype='object')"
            ]
          },
          "metadata": {},
          "execution_count": 50
        }
      ]
    },
    {
      "cell_type": "code",
      "metadata": {
        "execution": {
          "iopub.execute_input": "2020-12-25T17:43:04.334754Z",
          "iopub.status.busy": "2020-12-25T17:43:04.334259Z",
          "iopub.status.idle": "2020-12-25T17:43:04.339583Z",
          "shell.execute_reply": "2020-12-25T17:43:04.339050Z"
        },
        "papermill": {
          "duration": 0.037533,
          "end_time": "2020-12-25T17:43:04.339665",
          "exception": false,
          "start_time": "2020-12-25T17:43:04.302132",
          "status": "completed"
        },
        "tags": [],
        "id": "Vw5In4sYib3E",
        "colab": {
          "base_uri": "https://localhost:8080/"
        },
        "outputId": "ad8c3916-b67d-4cbe-9b02-223b2d51d497"
      },
      "source": [
        "df['label'].unique()"
      ],
      "execution_count": 51,
      "outputs": [
        {
          "output_type": "execute_result",
          "data": {
            "text/plain": [
              "array(['rice', 'maize', 'chickpea', 'kidneybeans', 'pigeonpeas',\n",
              "       'mothbeans', 'mungbean', 'blackgram', 'lentil', 'pomegranate',\n",
              "       'banana', 'mango', 'grapes', 'watermelon', 'muskmelon', 'apple',\n",
              "       'orange', 'papaya', 'coconut', 'cotton', 'jute', 'coffee'],\n",
              "      dtype=object)"
            ]
          },
          "metadata": {},
          "execution_count": 51
        }
      ]
    },
    {
      "cell_type": "code",
      "metadata": {
        "execution": {
          "iopub.execute_input": "2020-12-25T17:43:04.406990Z",
          "iopub.status.busy": "2020-12-25T17:43:04.406182Z",
          "iopub.status.idle": "2020-12-25T17:43:04.409397Z",
          "shell.execute_reply": "2020-12-25T17:43:04.409896Z"
        },
        "papermill": {
          "duration": 0.039689,
          "end_time": "2020-12-25T17:43:04.410016",
          "exception": false,
          "start_time": "2020-12-25T17:43:04.370327",
          "status": "completed"
        },
        "tags": [],
        "id": "lkPb3bGyib3E",
        "colab": {
          "base_uri": "https://localhost:8080/"
        },
        "outputId": "eb3e3983-2a93-4ed4-f06c-03783ce5c240"
      },
      "source": [
        "df.dtypes"
      ],
      "execution_count": 52,
      "outputs": [
        {
          "output_type": "execute_result",
          "data": {
            "text/plain": [
              "N                int64\n",
              "P                int64\n",
              "K                int64\n",
              "temperature    float64\n",
              "humidity       float64\n",
              "ph             float64\n",
              "rainfall       float64\n",
              "label           object\n",
              "dtype: object"
            ]
          },
          "metadata": {},
          "execution_count": 52
        }
      ]
    },
    {
      "cell_type": "code",
      "metadata": {
        "execution": {
          "iopub.execute_input": "2020-12-25T17:43:04.476169Z",
          "iopub.status.busy": "2020-12-25T17:43:04.475372Z",
          "iopub.status.idle": "2020-12-25T17:43:04.482662Z",
          "shell.execute_reply": "2020-12-25T17:43:04.483123Z"
        },
        "papermill": {
          "duration": 0.041845,
          "end_time": "2020-12-25T17:43:04.483247",
          "exception": false,
          "start_time": "2020-12-25T17:43:04.441402",
          "status": "completed"
        },
        "tags": [],
        "id": "3Zn7QSyjib3E",
        "colab": {
          "base_uri": "https://localhost:8080/"
        },
        "outputId": "858b8023-79e9-424b-9685-b0b6bf8fbd89"
      },
      "source": [
        "df['label'].value_counts()"
      ],
      "execution_count": 53,
      "outputs": [
        {
          "output_type": "execute_result",
          "data": {
            "text/plain": [
              "lentil         100\n",
              "maize          100\n",
              "watermelon     100\n",
              "blackgram      100\n",
              "chickpea       100\n",
              "mango          100\n",
              "kidneybeans    100\n",
              "apple          100\n",
              "grapes         100\n",
              "coffee         100\n",
              "pigeonpeas     100\n",
              "mungbean       100\n",
              "muskmelon      100\n",
              "pomegranate    100\n",
              "orange         100\n",
              "cotton         100\n",
              "coconut        100\n",
              "mothbeans      100\n",
              "jute           100\n",
              "rice           100\n",
              "banana         100\n",
              "papaya         100\n",
              "Name: label, dtype: int64"
            ]
          },
          "metadata": {},
          "execution_count": 53
        }
      ]
    },
    {
      "cell_type": "code",
      "metadata": {
        "id": "hK-yom7ql7Js"
      },
      "source": [
        "df=df.set_index('label')"
      ],
      "execution_count": 70,
      "outputs": []
    },
    {
      "cell_type": "code",
      "metadata": {
        "colab": {
          "base_uri": "https://localhost:8080/",
          "height": 455
        },
        "id": "mYMuT6ANqJu4",
        "outputId": "663a5894-f8b5-45e2-8a21-9e111a451be4"
      },
      "source": [
        "df.drop('apple')"
      ],
      "execution_count": 71,
      "outputs": [
        {
          "output_type": "execute_result",
          "data": {
            "text/html": [
              "<div>\n",
              "<style scoped>\n",
              "    .dataframe tbody tr th:only-of-type {\n",
              "        vertical-align: middle;\n",
              "    }\n",
              "\n",
              "    .dataframe tbody tr th {\n",
              "        vertical-align: top;\n",
              "    }\n",
              "\n",
              "    .dataframe thead th {\n",
              "        text-align: right;\n",
              "    }\n",
              "</style>\n",
              "<table border=\"1\" class=\"dataframe\">\n",
              "  <thead>\n",
              "    <tr style=\"text-align: right;\">\n",
              "      <th></th>\n",
              "      <th>N</th>\n",
              "      <th>P</th>\n",
              "      <th>K</th>\n",
              "      <th>temperature</th>\n",
              "      <th>humidity</th>\n",
              "      <th>ph</th>\n",
              "      <th>rainfall</th>\n",
              "    </tr>\n",
              "    <tr>\n",
              "      <th>label</th>\n",
              "      <th></th>\n",
              "      <th></th>\n",
              "      <th></th>\n",
              "      <th></th>\n",
              "      <th></th>\n",
              "      <th></th>\n",
              "      <th></th>\n",
              "    </tr>\n",
              "  </thead>\n",
              "  <tbody>\n",
              "    <tr>\n",
              "      <th>rice</th>\n",
              "      <td>90</td>\n",
              "      <td>42</td>\n",
              "      <td>43</td>\n",
              "      <td>20.879744</td>\n",
              "      <td>82.002744</td>\n",
              "      <td>6.502985</td>\n",
              "      <td>202.935536</td>\n",
              "    </tr>\n",
              "    <tr>\n",
              "      <th>rice</th>\n",
              "      <td>85</td>\n",
              "      <td>58</td>\n",
              "      <td>41</td>\n",
              "      <td>21.770462</td>\n",
              "      <td>80.319644</td>\n",
              "      <td>7.038096</td>\n",
              "      <td>226.655537</td>\n",
              "    </tr>\n",
              "    <tr>\n",
              "      <th>rice</th>\n",
              "      <td>60</td>\n",
              "      <td>55</td>\n",
              "      <td>44</td>\n",
              "      <td>23.004459</td>\n",
              "      <td>82.320763</td>\n",
              "      <td>7.840207</td>\n",
              "      <td>263.964248</td>\n",
              "    </tr>\n",
              "    <tr>\n",
              "      <th>rice</th>\n",
              "      <td>74</td>\n",
              "      <td>35</td>\n",
              "      <td>40</td>\n",
              "      <td>26.491096</td>\n",
              "      <td>80.158363</td>\n",
              "      <td>6.980401</td>\n",
              "      <td>242.864034</td>\n",
              "    </tr>\n",
              "    <tr>\n",
              "      <th>rice</th>\n",
              "      <td>78</td>\n",
              "      <td>42</td>\n",
              "      <td>42</td>\n",
              "      <td>20.130175</td>\n",
              "      <td>81.604873</td>\n",
              "      <td>7.628473</td>\n",
              "      <td>262.717340</td>\n",
              "    </tr>\n",
              "    <tr>\n",
              "      <th>...</th>\n",
              "      <td>...</td>\n",
              "      <td>...</td>\n",
              "      <td>...</td>\n",
              "      <td>...</td>\n",
              "      <td>...</td>\n",
              "      <td>...</td>\n",
              "      <td>...</td>\n",
              "    </tr>\n",
              "    <tr>\n",
              "      <th>coffee</th>\n",
              "      <td>107</td>\n",
              "      <td>34</td>\n",
              "      <td>32</td>\n",
              "      <td>26.774637</td>\n",
              "      <td>66.413269</td>\n",
              "      <td>6.780064</td>\n",
              "      <td>177.774507</td>\n",
              "    </tr>\n",
              "    <tr>\n",
              "      <th>coffee</th>\n",
              "      <td>99</td>\n",
              "      <td>15</td>\n",
              "      <td>27</td>\n",
              "      <td>27.417112</td>\n",
              "      <td>56.636362</td>\n",
              "      <td>6.086922</td>\n",
              "      <td>127.924610</td>\n",
              "    </tr>\n",
              "    <tr>\n",
              "      <th>coffee</th>\n",
              "      <td>118</td>\n",
              "      <td>33</td>\n",
              "      <td>30</td>\n",
              "      <td>24.131797</td>\n",
              "      <td>67.225123</td>\n",
              "      <td>6.362608</td>\n",
              "      <td>173.322839</td>\n",
              "    </tr>\n",
              "    <tr>\n",
              "      <th>coffee</th>\n",
              "      <td>117</td>\n",
              "      <td>32</td>\n",
              "      <td>34</td>\n",
              "      <td>26.272418</td>\n",
              "      <td>52.127394</td>\n",
              "      <td>6.758793</td>\n",
              "      <td>127.175293</td>\n",
              "    </tr>\n",
              "    <tr>\n",
              "      <th>coffee</th>\n",
              "      <td>104</td>\n",
              "      <td>18</td>\n",
              "      <td>30</td>\n",
              "      <td>23.603016</td>\n",
              "      <td>60.396475</td>\n",
              "      <td>6.779833</td>\n",
              "      <td>140.937041</td>\n",
              "    </tr>\n",
              "  </tbody>\n",
              "</table>\n",
              "<p>2100 rows × 7 columns</p>\n",
              "</div>"
            ],
            "text/plain": [
              "          N   P   K  temperature   humidity        ph    rainfall\n",
              "label                                                            \n",
              "rice     90  42  43    20.879744  82.002744  6.502985  202.935536\n",
              "rice     85  58  41    21.770462  80.319644  7.038096  226.655537\n",
              "rice     60  55  44    23.004459  82.320763  7.840207  263.964248\n",
              "rice     74  35  40    26.491096  80.158363  6.980401  242.864034\n",
              "rice     78  42  42    20.130175  81.604873  7.628473  262.717340\n",
              "...     ...  ..  ..          ...        ...       ...         ...\n",
              "coffee  107  34  32    26.774637  66.413269  6.780064  177.774507\n",
              "coffee   99  15  27    27.417112  56.636362  6.086922  127.924610\n",
              "coffee  118  33  30    24.131797  67.225123  6.362608  173.322839\n",
              "coffee  117  32  34    26.272418  52.127394  6.758793  127.175293\n",
              "coffee  104  18  30    23.603016  60.396475  6.779833  140.937041\n",
              "\n",
              "[2100 rows x 7 columns]"
            ]
          },
          "metadata": {},
          "execution_count": 71
        }
      ]
    },
    {
      "cell_type": "code",
      "metadata": {
        "id": "0BDWDi5soo4c"
      },
      "source": [
        "df = df.reset_index()"
      ],
      "execution_count": 72,
      "outputs": []
    },
    {
      "cell_type": "code",
      "metadata": {
        "colab": {
          "base_uri": "https://localhost:8080/",
          "height": 424
        },
        "id": "hiGGasAZozO8",
        "outputId": "4d634283-7297-4377-854c-1998243f17c1"
      },
      "source": [
        "df"
      ],
      "execution_count": 73,
      "outputs": [
        {
          "output_type": "execute_result",
          "data": {
            "text/html": [
              "<div>\n",
              "<style scoped>\n",
              "    .dataframe tbody tr th:only-of-type {\n",
              "        vertical-align: middle;\n",
              "    }\n",
              "\n",
              "    .dataframe tbody tr th {\n",
              "        vertical-align: top;\n",
              "    }\n",
              "\n",
              "    .dataframe thead th {\n",
              "        text-align: right;\n",
              "    }\n",
              "</style>\n",
              "<table border=\"1\" class=\"dataframe\">\n",
              "  <thead>\n",
              "    <tr style=\"text-align: right;\">\n",
              "      <th></th>\n",
              "      <th>label</th>\n",
              "      <th>N</th>\n",
              "      <th>P</th>\n",
              "      <th>K</th>\n",
              "      <th>temperature</th>\n",
              "      <th>humidity</th>\n",
              "      <th>ph</th>\n",
              "      <th>rainfall</th>\n",
              "    </tr>\n",
              "  </thead>\n",
              "  <tbody>\n",
              "    <tr>\n",
              "      <th>0</th>\n",
              "      <td>rice</td>\n",
              "      <td>90</td>\n",
              "      <td>42</td>\n",
              "      <td>43</td>\n",
              "      <td>20.879744</td>\n",
              "      <td>82.002744</td>\n",
              "      <td>6.502985</td>\n",
              "      <td>202.935536</td>\n",
              "    </tr>\n",
              "    <tr>\n",
              "      <th>1</th>\n",
              "      <td>rice</td>\n",
              "      <td>85</td>\n",
              "      <td>58</td>\n",
              "      <td>41</td>\n",
              "      <td>21.770462</td>\n",
              "      <td>80.319644</td>\n",
              "      <td>7.038096</td>\n",
              "      <td>226.655537</td>\n",
              "    </tr>\n",
              "    <tr>\n",
              "      <th>2</th>\n",
              "      <td>rice</td>\n",
              "      <td>60</td>\n",
              "      <td>55</td>\n",
              "      <td>44</td>\n",
              "      <td>23.004459</td>\n",
              "      <td>82.320763</td>\n",
              "      <td>7.840207</td>\n",
              "      <td>263.964248</td>\n",
              "    </tr>\n",
              "    <tr>\n",
              "      <th>3</th>\n",
              "      <td>rice</td>\n",
              "      <td>74</td>\n",
              "      <td>35</td>\n",
              "      <td>40</td>\n",
              "      <td>26.491096</td>\n",
              "      <td>80.158363</td>\n",
              "      <td>6.980401</td>\n",
              "      <td>242.864034</td>\n",
              "    </tr>\n",
              "    <tr>\n",
              "      <th>4</th>\n",
              "      <td>rice</td>\n",
              "      <td>78</td>\n",
              "      <td>42</td>\n",
              "      <td>42</td>\n",
              "      <td>20.130175</td>\n",
              "      <td>81.604873</td>\n",
              "      <td>7.628473</td>\n",
              "      <td>262.717340</td>\n",
              "    </tr>\n",
              "    <tr>\n",
              "      <th>...</th>\n",
              "      <td>...</td>\n",
              "      <td>...</td>\n",
              "      <td>...</td>\n",
              "      <td>...</td>\n",
              "      <td>...</td>\n",
              "      <td>...</td>\n",
              "      <td>...</td>\n",
              "      <td>...</td>\n",
              "    </tr>\n",
              "    <tr>\n",
              "      <th>2195</th>\n",
              "      <td>coffee</td>\n",
              "      <td>107</td>\n",
              "      <td>34</td>\n",
              "      <td>32</td>\n",
              "      <td>26.774637</td>\n",
              "      <td>66.413269</td>\n",
              "      <td>6.780064</td>\n",
              "      <td>177.774507</td>\n",
              "    </tr>\n",
              "    <tr>\n",
              "      <th>2196</th>\n",
              "      <td>coffee</td>\n",
              "      <td>99</td>\n",
              "      <td>15</td>\n",
              "      <td>27</td>\n",
              "      <td>27.417112</td>\n",
              "      <td>56.636362</td>\n",
              "      <td>6.086922</td>\n",
              "      <td>127.924610</td>\n",
              "    </tr>\n",
              "    <tr>\n",
              "      <th>2197</th>\n",
              "      <td>coffee</td>\n",
              "      <td>118</td>\n",
              "      <td>33</td>\n",
              "      <td>30</td>\n",
              "      <td>24.131797</td>\n",
              "      <td>67.225123</td>\n",
              "      <td>6.362608</td>\n",
              "      <td>173.322839</td>\n",
              "    </tr>\n",
              "    <tr>\n",
              "      <th>2198</th>\n",
              "      <td>coffee</td>\n",
              "      <td>117</td>\n",
              "      <td>32</td>\n",
              "      <td>34</td>\n",
              "      <td>26.272418</td>\n",
              "      <td>52.127394</td>\n",
              "      <td>6.758793</td>\n",
              "      <td>127.175293</td>\n",
              "    </tr>\n",
              "    <tr>\n",
              "      <th>2199</th>\n",
              "      <td>coffee</td>\n",
              "      <td>104</td>\n",
              "      <td>18</td>\n",
              "      <td>30</td>\n",
              "      <td>23.603016</td>\n",
              "      <td>60.396475</td>\n",
              "      <td>6.779833</td>\n",
              "      <td>140.937041</td>\n",
              "    </tr>\n",
              "  </tbody>\n",
              "</table>\n",
              "<p>2200 rows × 8 columns</p>\n",
              "</div>"
            ],
            "text/plain": [
              "       label    N   P   K  temperature   humidity        ph    rainfall\n",
              "0       rice   90  42  43    20.879744  82.002744  6.502985  202.935536\n",
              "1       rice   85  58  41    21.770462  80.319644  7.038096  226.655537\n",
              "2       rice   60  55  44    23.004459  82.320763  7.840207  263.964248\n",
              "3       rice   74  35  40    26.491096  80.158363  6.980401  242.864034\n",
              "4       rice   78  42  42    20.130175  81.604873  7.628473  262.717340\n",
              "...      ...  ...  ..  ..          ...        ...       ...         ...\n",
              "2195  coffee  107  34  32    26.774637  66.413269  6.780064  177.774507\n",
              "2196  coffee   99  15  27    27.417112  56.636362  6.086922  127.924610\n",
              "2197  coffee  118  33  30    24.131797  67.225123  6.362608  173.322839\n",
              "2198  coffee  117  32  34    26.272418  52.127394  6.758793  127.175293\n",
              "2199  coffee  104  18  30    23.603016  60.396475  6.779833  140.937041\n",
              "\n",
              "[2200 rows x 8 columns]"
            ]
          },
          "metadata": {},
          "execution_count": 73
        }
      ]
    },
    {
      "cell_type": "code",
      "metadata": {
        "colab": {
          "base_uri": "https://localhost:8080/"
        },
        "id": "gMatZTF0nOSA",
        "outputId": "22551dd0-42d3-4580-982c-9713a363eac5"
      },
      "source": [
        "df['label'].unique()"
      ],
      "execution_count": 74,
      "outputs": [
        {
          "output_type": "execute_result",
          "data": {
            "text/plain": [
              "array(['rice', 'maize', 'chickpea', 'kidneybeans', 'pigeonpeas',\n",
              "       'mothbeans', 'mungbean', 'blackgram', 'lentil', 'pomegranate',\n",
              "       'banana', 'mango', 'grapes', 'watermelon', 'muskmelon', 'apple',\n",
              "       'orange', 'papaya', 'coconut', 'cotton', 'jute', 'coffee'],\n",
              "      dtype=object)"
            ]
          },
          "metadata": {},
          "execution_count": 74
        }
      ]
    },
    {
      "cell_type": "code",
      "metadata": {
        "execution": {
          "iopub.execute_input": "2020-12-25T17:43:04.549902Z",
          "iopub.status.busy": "2020-12-25T17:43:04.549087Z",
          "iopub.status.idle": "2020-12-25T17:43:04.937999Z",
          "shell.execute_reply": "2020-12-25T17:43:04.938534Z"
        },
        "papermill": {
          "duration": 0.423688,
          "end_time": "2020-12-25T17:43:04.938685",
          "exception": false,
          "start_time": "2020-12-25T17:43:04.514997",
          "status": "completed"
        },
        "tags": [],
        "id": "sw-mkRW_ib3E",
        "colab": {
          "base_uri": "https://localhost:8080/",
          "height": 339
        },
        "outputId": "a19fb96c-d123-49f6-c35f-7ea2c3cdac74"
      },
      "source": [
        "sns.heatmap(df.corr(),annot=True)"
      ],
      "execution_count": 75,
      "outputs": [
        {
          "output_type": "execute_result",
          "data": {
            "text/plain": [
              "<matplotlib.axes._subplots.AxesSubplot at 0x7f5406516090>"
            ]
          },
          "metadata": {},
          "execution_count": 75
        },
        {
          "output_type": "display_data",
          "data": {
            "image/png": "[encoded data removed]",
            "text/plain": [
              "<Figure size 432x288 with 2 Axes>"
            ]
          },
          "metadata": {
            "needs_background": "light"
          }
        }
      ]
    },
    {
      "cell_type": "code",
      "metadata": {
        "id": "BC0pNdnswV5k"
      },
      "source": [
        "#Seperating features and target label\n",
        "\n",
        "features = df[['N', 'P','K','temperature', 'humidity', 'ph', 'rainfall']]\n",
        "target = df['label']\n",
        "labels = df['label']"
      ],
      "execution_count": 78,
      "outputs": []
    },
    {
      "cell_type": "code",
      "metadata": {
        "id": "WMq64qHCwOKQ"
      },
      "source": [
        "# Initializing empty lists to append all model's name and corresponding name\n",
        "acc = []\n",
        "model = []"
      ],
      "execution_count": 79,
      "outputs": []
    },
    {
      "cell_type": "code",
      "metadata": {
        "id": "B7DufnLKwQoE"
      },
      "source": [
        "# Splitting into train and test data\n",
        "\n",
        "from sklearn.model_selection import train_test_split\n",
        "Xtrain, Xtest, Ytrain, Ytest = train_test_split(features,target,test_size = 0.2,random_state =2)"
      ],
      "execution_count": 80,
      "outputs": []
    },
    {
      "cell_type": "markdown",
      "metadata": {
        "papermill": {
          "duration": 0.033437,
          "end_time": "2020-12-25T17:43:05.306117",
          "exception": false,
          "start_time": "2020-12-25T17:43:05.272680",
          "status": "completed"
        },
        "tags": [],
        "id": "9LXVttz0ib6M"
      },
      "source": [
        "# Decision Tree"
      ]
    },
    {
      "cell_type": "code",
      "metadata": {
        "execution": {
          "iopub.execute_input": "2020-12-25T17:43:05.382104Z",
          "iopub.status.busy": "2020-12-25T17:43:05.381326Z",
          "iopub.status.idle": "2020-12-25T17:43:05.438864Z",
          "shell.execute_reply": "2020-12-25T17:43:05.439274Z"
        },
        "papermill": {
          "duration": 0.093881,
          "end_time": "2020-12-25T17:43:05.439389",
          "exception": false,
          "start_time": "2020-12-25T17:43:05.345508",
          "status": "completed"
        },
        "tags": [],
        "id": "Pl6UE260ib6M",
        "colab": {
          "base_uri": "https://localhost:8080/"
        },
        "outputId": "7b45d7b8-a28a-449d-9225-a007f30cbfc8"
      },
      "source": [
        "from sklearn.tree import DecisionTreeClassifier\n",
        "\n",
        "DecisionTree = DecisionTreeClassifier(criterion=\"entropy\",random_state=2,max_depth=5)\n",
        "\n",
        "DecisionTree.fit(Xtrain,Ytrain)\n",
        "\n",
        "predicted_values = DecisionTree.predict(Xtest)\n",
        "x = metrics.accuracy_score(Ytest, predicted_values)\n",
        "acc.append(x)\n",
        "model.append('Decision Tree')\n",
        "print(\"DecisionTrees's Accuracy is: \", x*100)\n",
        "\n",
        "print(classification_report(Ytest,predicted_values))"
      ],
      "execution_count": 81,
      "outputs": [
        {
          "output_type": "stream",
          "name": "stdout",
          "text": [
            "DecisionTrees's Accuracy is:  90.0\n",
            "              precision    recall  f1-score   support\n",
            "\n",
            "       apple       1.00      1.00      1.00        13\n",
            "      banana       1.00      1.00      1.00        17\n",
            "   blackgram       0.59      1.00      0.74        16\n",
            "    chickpea       1.00      1.00      1.00        21\n",
            "     coconut       0.91      1.00      0.95        21\n",
            "      coffee       1.00      1.00      1.00        22\n",
            "      cotton       1.00      1.00      1.00        20\n",
            "      grapes       1.00      1.00      1.00        18\n",
            "        jute       0.74      0.93      0.83        28\n",
            " kidneybeans       0.00      0.00      0.00        14\n",
            "      lentil       0.68      1.00      0.81        23\n",
            "       maize       1.00      1.00      1.00        21\n",
            "       mango       1.00      1.00      1.00        26\n",
            "   mothbeans       0.00      0.00      0.00        19\n",
            "    mungbean       1.00      1.00      1.00        24\n",
            "   muskmelon       1.00      1.00      1.00        23\n",
            "      orange       1.00      1.00      1.00        29\n",
            "      papaya       1.00      0.84      0.91        19\n",
            "  pigeonpeas       0.62      1.00      0.77        18\n",
            " pomegranate       1.00      1.00      1.00        17\n",
            "        rice       1.00      0.62      0.77        16\n",
            "  watermelon       1.00      1.00      1.00        15\n",
            "\n",
            "    accuracy                           0.90       440\n",
            "   macro avg       0.84      0.88      0.85       440\n",
            "weighted avg       0.86      0.90      0.87       440\n",
            "\n"
          ]
        }
      ]
    },
    {
      "cell_type": "code",
      "metadata": {
        "execution": {
          "iopub.execute_input": "2020-12-25T17:43:05.511318Z",
          "iopub.status.busy": "2020-12-25T17:43:05.510628Z",
          "iopub.status.idle": "2020-12-25T17:43:05.513354Z",
          "shell.execute_reply": "2020-12-25T17:43:05.512823Z"
        },
        "papermill": {
          "duration": 0.039972,
          "end_time": "2020-12-25T17:43:05.513438",
          "exception": false,
          "start_time": "2020-12-25T17:43:05.473466",
          "status": "completed"
        },
        "tags": [],
        "id": "w3sMzJ8vib6M"
      },
      "source": [
        "from sklearn.model_selection import cross_val_score"
      ],
      "execution_count": 82,
      "outputs": []
    },
    {
      "cell_type": "code",
      "metadata": {
        "execution": {
          "iopub.execute_input": "2020-12-25T17:43:05.589874Z",
          "iopub.status.busy": "2020-12-25T17:43:05.589360Z",
          "iopub.status.idle": "2020-12-25T17:43:05.718348Z",
          "shell.execute_reply": "2020-12-25T17:43:05.718933Z"
        },
        "papermill": {
          "duration": 0.171655,
          "end_time": "2020-12-25T17:43:05.719081",
          "exception": false,
          "start_time": "2020-12-25T17:43:05.547426",
          "status": "completed"
        },
        "tags": [],
        "id": "TMgfSXKtib6M"
      },
      "source": [
        "# Cross validation score (Decision Tree)\n",
        "score = cross_val_score(DecisionTree, features, target,cv=5)"
      ],
      "execution_count": 83,
      "outputs": []
    },
    {
      "cell_type": "code",
      "metadata": {
        "execution": {
          "iopub.execute_input": "2020-12-25T17:43:05.798346Z",
          "iopub.status.busy": "2020-12-25T17:43:05.797578Z",
          "iopub.status.idle": "2020-12-25T17:43:05.801313Z",
          "shell.execute_reply": "2020-12-25T17:43:05.800784Z"
        },
        "papermill": {
          "duration": 0.044583,
          "end_time": "2020-12-25T17:43:05.801407",
          "exception": false,
          "start_time": "2020-12-25T17:43:05.756824",
          "status": "completed"
        },
        "tags": [],
        "id": "K-GkEJF1ib6M",
        "colab": {
          "base_uri": "https://localhost:8080/"
        },
        "outputId": "50b5601f-0e2c-4e0f-de68-e0a52376bc07"
      },
      "source": [
        "score"
      ],
      "execution_count": 84,
      "outputs": [
        {
          "output_type": "execute_result",
          "data": {
            "text/plain": [
              "array([0.93636364, 0.90909091, 0.91818182, 0.87045455, 0.93636364])"
            ]
          },
          "metadata": {},
          "execution_count": 84
        }
      ]
    },
    {
      "cell_type": "markdown",
      "metadata": {
        "papermill": {
          "duration": 0.0343,
          "end_time": "2020-12-25T17:43:05.870225",
          "exception": false,
          "start_time": "2020-12-25T17:43:05.835925",
          "status": "completed"
        },
        "tags": [],
        "id": "t7MHSenFib6M"
      },
      "source": [
        "### Saving trained Decision Tree model"
      ]
    },
    {
      "cell_type": "code",
      "metadata": {
        "execution": {
          "iopub.execute_input": "2020-12-25T17:43:05.945134Z",
          "iopub.status.busy": "2020-12-25T17:43:05.944323Z",
          "iopub.status.idle": "2020-12-25T17:43:05.947948Z",
          "shell.execute_reply": "2020-12-25T17:43:05.947482Z"
        },
        "papermill": {
          "duration": 0.042144,
          "end_time": "2020-12-25T17:43:05.948033",
          "exception": false,
          "start_time": "2020-12-25T17:43:05.905889",
          "status": "completed"
        },
        "tags": [],
        "id": "88XllNWNib6M"
      },
      "source": [
        "import pickle\n",
        "# Dump the trained Naive Bayes classifier with Pickle\n",
        "DT_pkl_filename = 'DecisionTree.pkl'\n",
        "# Open the file to save as pkl file\n",
        "DT_Model_pkl = open(DT_pkl_filename, 'wb')\n",
        "pickle.dump(DecisionTree, DT_Model_pkl)\n",
        "# Close the pickle instances\n",
        "DT_Model_pkl.close()"
      ],
      "execution_count": 85,
      "outputs": []
    },
    {
      "cell_type": "markdown",
      "metadata": {
        "papermill": {
          "duration": 0.034983,
          "end_time": "2020-12-25T17:43:06.017890",
          "exception": false,
          "start_time": "2020-12-25T17:43:05.982907",
          "status": "completed"
        },
        "tags": [],
        "id": "uJCmFj9Jib6M"
      },
      "source": [
        "# Guassian Naive Bayes"
      ]
    },
    {
      "cell_type": "code",
      "metadata": {
        "execution": {
          "iopub.execute_input": "2020-12-25T17:43:06.092862Z",
          "iopub.status.busy": "2020-12-25T17:43:06.092358Z",
          "iopub.status.idle": "2020-12-25T17:43:06.123423Z",
          "shell.execute_reply": "2020-12-25T17:43:06.122645Z"
        },
        "papermill": {
          "duration": 0.070847,
          "end_time": "2020-12-25T17:43:06.123543",
          "exception": false,
          "start_time": "2020-12-25T17:43:06.052696",
          "status": "completed"
        },
        "tags": [],
        "id": "1tcyh-t2ib6M",
        "colab": {
          "base_uri": "https://localhost:8080/"
        },
        "outputId": "71f65f08-172e-426b-8dce-c11cf88115b7"
      },
      "source": [
        "from sklearn.naive_bayes import GaussianNB\n",
        "\n",
        "NaiveBayes = GaussianNB()\n",
        "\n",
        "NaiveBayes.fit(Xtrain,Ytrain)\n",
        "\n",
        "predicted_values = NaiveBayes.predict(Xtest)\n",
        "x = metrics.accuracy_score(Ytest, predicted_values)\n",
        "acc.append(x)\n",
        "model.append('Naive Bayes')\n",
        "print(\"Naive Bayes's Accuracy is: \", x)\n",
        "\n",
        "print(classification_report(Ytest,predicted_values))"
      ],
      "execution_count": 86,
      "outputs": [
        {
          "output_type": "stream",
          "name": "stdout",
          "text": [
            "Naive Bayes's Accuracy is:  0.990909090909091\n",
            "              precision    recall  f1-score   support\n",
            "\n",
            "       apple       1.00      1.00      1.00        13\n",
            "      banana       1.00      1.00      1.00        17\n",
            "   blackgram       1.00      1.00      1.00        16\n",
            "    chickpea       1.00      1.00      1.00        21\n",
            "     coconut       1.00      1.00      1.00        21\n",
            "      coffee       1.00      1.00      1.00        22\n",
            "      cotton       1.00      1.00      1.00        20\n",
            "      grapes       1.00      1.00      1.00        18\n",
            "        jute       0.88      1.00      0.93        28\n",
            " kidneybeans       1.00      1.00      1.00        14\n",
            "      lentil       1.00      1.00      1.00        23\n",
            "       maize       1.00      1.00      1.00        21\n",
            "       mango       1.00      1.00      1.00        26\n",
            "   mothbeans       1.00      1.00      1.00        19\n",
            "    mungbean       1.00      1.00      1.00        24\n",
            "   muskmelon       1.00      1.00      1.00        23\n",
            "      orange       1.00      1.00      1.00        29\n",
            "      papaya       1.00      1.00      1.00        19\n",
            "  pigeonpeas       1.00      1.00      1.00        18\n",
            " pomegranate       1.00      1.00      1.00        17\n",
            "        rice       1.00      0.75      0.86        16\n",
            "  watermelon       1.00      1.00      1.00        15\n",
            "\n",
            "    accuracy                           0.99       440\n",
            "   macro avg       0.99      0.99      0.99       440\n",
            "weighted avg       0.99      0.99      0.99       440\n",
            "\n"
          ]
        }
      ]
    },
    {
      "cell_type": "code",
      "metadata": {
        "execution": {
          "iopub.execute_input": "2020-12-25T17:43:06.203190Z",
          "iopub.status.busy": "2020-12-25T17:43:06.202681Z",
          "iopub.status.idle": "2020-12-25T17:43:06.261683Z",
          "shell.execute_reply": "2020-12-25T17:43:06.261166Z"
        },
        "papermill": {
          "duration": 0.102386,
          "end_time": "2020-12-25T17:43:06.261768",
          "exception": false,
          "start_time": "2020-12-25T17:43:06.159382",
          "status": "completed"
        },
        "tags": [],
        "id": "sTG_VsVVib6M",
        "colab": {
          "base_uri": "https://localhost:8080/"
        },
        "outputId": "21f0cf84-2cca-4518-a208-8eaa5487cd48"
      },
      "source": [
        "# Cross validation score (NaiveBayes)\n",
        "score = cross_val_score(NaiveBayes,features,target,cv=5)\n",
        "score"
      ],
      "execution_count": 87,
      "outputs": [
        {
          "output_type": "execute_result",
          "data": {
            "text/plain": [
              "array([0.99772727, 0.99545455, 0.99545455, 0.99545455, 0.99090909])"
            ]
          },
          "metadata": {},
          "execution_count": 87
        }
      ]
    },
    {
      "cell_type": "markdown",
      "metadata": {
        "papermill": {
          "duration": 0.036802,
          "end_time": "2020-12-25T17:43:06.334100",
          "exception": false,
          "start_time": "2020-12-25T17:43:06.297298",
          "status": "completed"
        },
        "tags": [],
        "id": "lp_s3dCaib6M"
      },
      "source": [
        "### Saving trained Guassian Naive Bayes model"
      ]
    },
    {
      "cell_type": "code",
      "metadata": {
        "execution": {
          "iopub.execute_input": "2020-12-25T17:43:06.410122Z",
          "iopub.status.busy": "2020-12-25T17:43:06.409274Z",
          "iopub.status.idle": "2020-12-25T17:43:06.412458Z",
          "shell.execute_reply": "2020-12-25T17:43:06.412833Z"
        },
        "papermill": {
          "duration": 0.04339,
          "end_time": "2020-12-25T17:43:06.412936",
          "exception": false,
          "start_time": "2020-12-25T17:43:06.369546",
          "status": "completed"
        },
        "tags": [],
        "id": "8NXnssQcib6M"
      },
      "source": [
        "import pickle\n",
        "# Dump the trained Naive Bayes classifier with Pickle\n",
        "NB_pkl_filename = 'NBClassifier.pkl'\n",
        "# Open the file to save as pkl file\n",
        "NB_Model_pkl = open(NB_pkl_filename, 'wb')\n",
        "pickle.dump(NaiveBayes, NB_Model_pkl)\n",
        "# Close the pickle instances\n",
        "NB_Model_pkl.close()"
      ],
      "execution_count": 88,
      "outputs": []
    },
    {
      "cell_type": "markdown",
      "metadata": {
        "papermill": {
          "duration": 0.035345,
          "end_time": "2020-12-25T17:43:06.484035",
          "exception": false,
          "start_time": "2020-12-25T17:43:06.448690",
          "status": "completed"
        },
        "tags": [],
        "id": "73bWRPbaib6M"
      },
      "source": [
        "# Support Vector Machine (SVM)"
      ]
    },
    {
      "cell_type": "code",
      "metadata": {
        "execution": {
          "iopub.execute_input": "2020-12-25T17:43:06.565060Z",
          "iopub.status.busy": "2020-12-25T17:43:06.564230Z",
          "iopub.status.idle": "2020-12-25T17:43:06.909287Z",
          "shell.execute_reply": "2020-12-25T17:43:06.908536Z"
        },
        "papermill": {
          "duration": 0.389805,
          "end_time": "2020-12-25T17:43:06.909391",
          "exception": false,
          "start_time": "2020-12-25T17:43:06.519586",
          "status": "completed"
        },
        "tags": [],
        "id": "CwgNAtvqib6M",
        "colab": {
          "base_uri": "https://localhost:8080/"
        },
        "outputId": "07f2f4ee-b8d2-4f44-bb92-dd7f337a98bb"
      },
      "source": [
        "from sklearn.svm import SVC\n",
        "\n",
        "SVM = SVC(gamma='auto')\n",
        "\n",
        "SVM.fit(Xtrain,Ytrain)\n",
        "\n",
        "predicted_values = SVM.predict(Xtest)\n",
        "\n",
        "x = metrics.accuracy_score(Ytest, predicted_values)\n",
        "acc.append(x)\n",
        "model.append('SVM')\n",
        "print(\"SVM's Accuracy is: \", x)\n",
        "\n",
        "print(classification_report(Ytest,predicted_values))"
      ],
      "execution_count": 89,
      "outputs": [
        {
          "output_type": "stream",
          "name": "stdout",
          "text": [
            "SVM's Accuracy is:  0.10681818181818181\n",
            "              precision    recall  f1-score   support\n",
            "\n",
            "       apple       1.00      0.23      0.38        13\n",
            "      banana       1.00      0.24      0.38        17\n",
            "   blackgram       1.00      0.19      0.32        16\n",
            "    chickpea       1.00      0.05      0.09        21\n",
            "     coconut       1.00      0.05      0.09        21\n",
            "      coffee       0.00      0.00      0.00        22\n",
            "      cotton       1.00      0.05      0.10        20\n",
            "      grapes       1.00      0.06      0.11        18\n",
            "        jute       1.00      0.07      0.13        28\n",
            " kidneybeans       0.03      1.00      0.07        14\n",
            "      lentil       0.00      0.00      0.00        23\n",
            "       maize       0.00      0.00      0.00        21\n",
            "       mango       0.00      0.00      0.00        26\n",
            "   mothbeans       0.00      0.00      0.00        19\n",
            "    mungbean       1.00      0.12      0.22        24\n",
            "   muskmelon       1.00      0.30      0.47        23\n",
            "      orange       1.00      0.03      0.07        29\n",
            "      papaya       1.00      0.05      0.10        19\n",
            "  pigeonpeas       0.00      0.00      0.00        18\n",
            " pomegranate       1.00      0.12      0.21        17\n",
            "        rice       0.50      0.06      0.11        16\n",
            "  watermelon       1.00      0.13      0.24        15\n",
            "\n",
            "    accuracy                           0.11       440\n",
            "   macro avg       0.66      0.13      0.14       440\n",
            "weighted avg       0.66      0.11      0.13       440\n",
            "\n"
          ]
        }
      ]
    },
    {
      "cell_type": "code",
      "metadata": {
        "execution": {
          "iopub.execute_input": "2020-12-25T17:43:06.990224Z",
          "iopub.status.busy": "2020-12-25T17:43:06.989697Z",
          "iopub.status.idle": "2020-12-25T17:43:08.573874Z",
          "shell.execute_reply": "2020-12-25T17:43:08.573394Z"
        },
        "papermill": {
          "duration": 1.628093,
          "end_time": "2020-12-25T17:43:08.573970",
          "exception": false,
          "start_time": "2020-12-25T17:43:06.945877",
          "status": "completed"
        },
        "tags": [],
        "id": "Bphuw-ayib6M",
        "colab": {
          "base_uri": "https://localhost:8080/"
        },
        "outputId": "dad48877-6178-4f0c-c1fc-963ecf776c75"
      },
      "source": [
        "# Cross validation score (SVM)\n",
        "score = cross_val_score(SVM,features,target,cv=5)\n",
        "score"
      ],
      "execution_count": 90,
      "outputs": [
        {
          "output_type": "execute_result",
          "data": {
            "text/plain": [
              "array([0.27727273, 0.28863636, 0.29090909, 0.275     , 0.26818182])"
            ]
          },
          "metadata": {},
          "execution_count": 90
        }
      ]
    },
    {
      "cell_type": "markdown",
      "metadata": {
        "papermill": {
          "duration": 0.036295,
          "end_time": "2020-12-25T17:43:08.647681",
          "exception": false,
          "start_time": "2020-12-25T17:43:08.611386",
          "status": "completed"
        },
        "tags": [],
        "id": "0uc8eo2Aib6M"
      },
      "source": [
        "# Logistic Regression"
      ]
    },
    {
      "cell_type": "code",
      "metadata": {
        "execution": {
          "iopub.execute_input": "2020-12-25T17:43:08.728752Z",
          "iopub.status.busy": "2020-12-25T17:43:08.728228Z",
          "iopub.status.idle": "2020-12-25T17:43:08.990800Z",
          "shell.execute_reply": "2020-12-25T17:43:08.991758Z"
        },
        "papermill": {
          "duration": 0.308032,
          "end_time": "2020-12-25T17:43:08.991925",
          "exception": false,
          "start_time": "2020-12-25T17:43:08.683893",
          "status": "completed"
        },
        "tags": [],
        "id": "NU82wXNCib6M",
        "colab": {
          "base_uri": "https://localhost:8080/"
        },
        "outputId": "9c812079-3580-4590-87c3-4adbbdc16ed2"
      },
      "source": [
        "from sklearn.linear_model import LogisticRegression\n",
        "\n",
        "LogReg = LogisticRegression(random_state=2)\n",
        "\n",
        "LogReg.fit(Xtrain,Ytrain)\n",
        "\n",
        "predicted_values = LogReg.predict(Xtest)\n",
        "\n",
        "x = metrics.accuracy_score(Ytest, predicted_values)\n",
        "acc.append(x)\n",
        "model.append('Logistic Regression')\n",
        "print(\"Logistic Regression's Accuracy is: \", x)\n",
        "\n",
        "print(classification_report(Ytest,predicted_values))"
      ],
      "execution_count": 91,
      "outputs": [
        {
          "output_type": "stream",
          "name": "stdout",
          "text": [
            "Logistic Regression's Accuracy is:  0.9522727272727273\n",
            "              precision    recall  f1-score   support\n",
            "\n",
            "       apple       1.00      1.00      1.00        13\n",
            "      banana       1.00      1.00      1.00        17\n",
            "   blackgram       0.86      0.75      0.80        16\n",
            "    chickpea       1.00      1.00      1.00        21\n",
            "     coconut       1.00      1.00      1.00        21\n",
            "      coffee       1.00      1.00      1.00        22\n",
            "      cotton       0.86      0.90      0.88        20\n",
            "      grapes       1.00      1.00      1.00        18\n",
            "        jute       0.84      0.93      0.88        28\n",
            " kidneybeans       1.00      1.00      1.00        14\n",
            "      lentil       0.88      1.00      0.94        23\n",
            "       maize       0.90      0.86      0.88        21\n",
            "       mango       0.96      1.00      0.98        26\n",
            "   mothbeans       0.84      0.84      0.84        19\n",
            "    mungbean       1.00      0.96      0.98        24\n",
            "   muskmelon       1.00      1.00      1.00        23\n",
            "      orange       1.00      1.00      1.00        29\n",
            "      papaya       1.00      0.95      0.97        19\n",
            "  pigeonpeas       1.00      1.00      1.00        18\n",
            " pomegranate       1.00      1.00      1.00        17\n",
            "        rice       0.85      0.69      0.76        16\n",
            "  watermelon       1.00      1.00      1.00        15\n",
            "\n",
            "    accuracy                           0.95       440\n",
            "   macro avg       0.95      0.95      0.95       440\n",
            "weighted avg       0.95      0.95      0.95       440\n",
            "\n"
          ]
        }
      ]
    },
    {
      "cell_type": "code",
      "metadata": {
        "execution": {
          "iopub.execute_input": "2020-12-25T17:43:09.075523Z",
          "iopub.status.busy": "2020-12-25T17:43:09.074734Z",
          "iopub.status.idle": "2020-12-25T17:43:10.325402Z",
          "shell.execute_reply": "2020-12-25T17:43:10.324751Z"
        },
        "papermill": {
          "duration": 1.295368,
          "end_time": "2020-12-25T17:43:10.325521",
          "exception": false,
          "start_time": "2020-12-25T17:43:09.030153",
          "status": "completed"
        },
        "tags": [],
        "id": "xhAzXMtJib6M",
        "colab": {
          "base_uri": "https://localhost:8080/"
        },
        "outputId": "369cfdf7-82e4-456b-c6e5-8ebea894c1eb"
      },
      "source": [
        "# Cross validation score (Logistic Regression)\n",
        "score = cross_val_score(LogReg,features,target,cv=5)\n",
        "score"
      ],
      "execution_count": 92,
      "outputs": [
        {
          "output_type": "execute_result",
          "data": {
            "text/plain": [
              "array([0.95      , 0.96590909, 0.94772727, 0.96590909, 0.94318182])"
            ]
          },
          "metadata": {},
          "execution_count": 92
        }
      ]
    },
    {
      "cell_type": "markdown",
      "metadata": {
        "papermill": {
          "duration": 0.036969,
          "end_time": "2020-12-25T17:43:10.400190",
          "exception": false,
          "start_time": "2020-12-25T17:43:10.363221",
          "status": "completed"
        },
        "tags": [],
        "id": "SBR7iQ0dib7w"
      },
      "source": [
        "### Saving trained Logistic Regression model"
      ]
    },
    {
      "cell_type": "code",
      "metadata": {
        "execution": {
          "iopub.execute_input": "2020-12-25T17:43:10.479119Z",
          "iopub.status.busy": "2020-12-25T17:43:10.478510Z",
          "iopub.status.idle": "2020-12-25T17:43:10.481619Z",
          "shell.execute_reply": "2020-12-25T17:43:10.481049Z"
        },
        "papermill": {
          "duration": 0.044327,
          "end_time": "2020-12-25T17:43:10.481704",
          "exception": false,
          "start_time": "2020-12-25T17:43:10.437377",
          "status": "completed"
        },
        "tags": [],
        "id": "gH1Lj8Oeib7w"
      },
      "source": [
        "import pickle\n",
        "# Dump the trained Naive Bayes classifier with Pickle\n",
        "LR_pkl_filename = 'LogisticRegression.pkl'\n",
        "# Open the file to save as pkl file\n",
        "LR_Model_pkl = open(DT_pkl_filename, 'wb')\n",
        "pickle.dump(LogReg, LR_Model_pkl)\n",
        "# Close the pickle instances\n",
        "LR_Model_pkl.close()"
      ],
      "execution_count": 93,
      "outputs": []
    },
    {
      "cell_type": "markdown",
      "metadata": {
        "papermill": {
          "duration": 0.037258,
          "end_time": "2020-12-25T17:43:10.556881",
          "exception": false,
          "start_time": "2020-12-25T17:43:10.519623",
          "status": "completed"
        },
        "tags": [],
        "id": "0S3t8FTRib7w"
      },
      "source": [
        "# Random Forest"
      ]
    },
    {
      "cell_type": "code",
      "metadata": {
        "execution": {
          "iopub.execute_input": "2020-12-25T17:43:10.637176Z",
          "iopub.status.busy": "2020-12-25T17:43:10.636618Z",
          "iopub.status.idle": "2020-12-25T17:43:10.758714Z",
          "shell.execute_reply": "2020-12-25T17:43:10.758234Z"
        },
        "papermill": {
          "duration": 0.164699,
          "end_time": "2020-12-25T17:43:10.758807",
          "exception": false,
          "start_time": "2020-12-25T17:43:10.594108",
          "status": "completed"
        },
        "tags": [],
        "id": "FG3gmBm2ib7w",
        "colab": {
          "base_uri": "https://localhost:8080/"
        },
        "outputId": "62828bb0-3b8d-479c-ed82-04b179741a64"
      },
      "source": [
        "from sklearn.ensemble import RandomForestClassifier\n",
        "\n",
        "RF = RandomForestClassifier(n_estimators=20, random_state=0)\n",
        "RF.fit(Xtrain,Ytrain)\n",
        "\n",
        "predicted_values = RF.predict(Xtest)\n",
        "\n",
        "x = metrics.accuracy_score(Ytest, predicted_values)\n",
        "acc.append(x)\n",
        "model.append('RF')\n",
        "print(\"RF's Accuracy is: \", x)\n",
        "\n",
        "print(classification_report(Ytest,predicted_values))"
      ],
      "execution_count": 94,
      "outputs": [
        {
          "output_type": "stream",
          "name": "stdout",
          "text": [
            "RF's Accuracy is:  0.990909090909091\n",
            "              precision    recall  f1-score   support\n",
            "\n",
            "       apple       1.00      1.00      1.00        13\n",
            "      banana       1.00      1.00      1.00        17\n",
            "   blackgram       0.94      1.00      0.97        16\n",
            "    chickpea       1.00      1.00      1.00        21\n",
            "     coconut       1.00      1.00      1.00        21\n",
            "      coffee       1.00      1.00      1.00        22\n",
            "      cotton       1.00      1.00      1.00        20\n",
            "      grapes       1.00      1.00      1.00        18\n",
            "        jute       0.90      1.00      0.95        28\n",
            " kidneybeans       1.00      1.00      1.00        14\n",
            "      lentil       1.00      1.00      1.00        23\n",
            "       maize       1.00      1.00      1.00        21\n",
            "       mango       1.00      1.00      1.00        26\n",
            "   mothbeans       1.00      0.95      0.97        19\n",
            "    mungbean       1.00      1.00      1.00        24\n",
            "   muskmelon       1.00      1.00      1.00        23\n",
            "      orange       1.00      1.00      1.00        29\n",
            "      papaya       1.00      1.00      1.00        19\n",
            "  pigeonpeas       1.00      1.00      1.00        18\n",
            " pomegranate       1.00      1.00      1.00        17\n",
            "        rice       1.00      0.81      0.90        16\n",
            "  watermelon       1.00      1.00      1.00        15\n",
            "\n",
            "    accuracy                           0.99       440\n",
            "   macro avg       0.99      0.99      0.99       440\n",
            "weighted avg       0.99      0.99      0.99       440\n",
            "\n"
          ]
        }
      ]
    },
    {
      "cell_type": "code",
      "metadata": {
        "execution": {
          "iopub.execute_input": "2020-12-25T17:43:10.844782Z",
          "iopub.status.busy": "2020-12-25T17:43:10.843900Z",
          "iopub.status.idle": "2020-12-25T17:43:11.231113Z",
          "shell.execute_reply": "2020-12-25T17:43:11.231511Z"
        },
        "papermill": {
          "duration": 0.434587,
          "end_time": "2020-12-25T17:43:11.231643",
          "exception": false,
          "start_time": "2020-12-25T17:43:10.797056",
          "status": "completed"
        },
        "tags": [],
        "id": "SG3cS1dGib7w",
        "colab": {
          "base_uri": "https://localhost:8080/"
        },
        "outputId": "73a63f42-2802-4246-a5f8-7bdf0e7b974f"
      },
      "source": [
        "# Cross validation score (Random Forest)\n",
        "score = cross_val_score(RF,features,target,cv=5)\n",
        "score"
      ],
      "execution_count": 95,
      "outputs": [
        {
          "output_type": "execute_result",
          "data": {
            "text/plain": [
              "array([0.99772727, 0.99545455, 0.99772727, 0.99318182, 0.98863636])"
            ]
          },
          "metadata": {},
          "execution_count": 95
        }
      ]
    },
    {
      "cell_type": "markdown",
      "metadata": {
        "papermill": {
          "duration": 0.038083,
          "end_time": "2020-12-25T17:43:11.308318",
          "exception": false,
          "start_time": "2020-12-25T17:43:11.270235",
          "status": "completed"
        },
        "tags": [],
        "id": "_5EMhMAvib7w"
      },
      "source": [
        "### Saving trained Random Forest model"
      ]
    },
    {
      "cell_type": "code",
      "metadata": {
        "execution": {
          "iopub.execute_input": "2020-12-25T17:43:11.390665Z",
          "iopub.status.busy": "2020-12-25T17:43:11.389962Z",
          "iopub.status.idle": "2020-12-25T17:43:11.392903Z",
          "shell.execute_reply": "2020-12-25T17:43:11.393320Z"
        },
        "papermill": {
          "duration": 0.046946,
          "end_time": "2020-12-25T17:43:11.393431",
          "exception": false,
          "start_time": "2020-12-25T17:43:11.346485",
          "status": "completed"
        },
        "tags": [],
        "id": "k22xXzfIib7w"
      },
      "source": [
        "import pickle\n",
        "# Dump the trained Naive Bayes classifier with Pickle\n",
        "RF_pkl_filename = 'RandomForest.pkl'\n",
        "# Open the file to save as pkl file\n",
        "RF_Model_pkl = open(RF_pkl_filename, 'wb')\n",
        "pickle.dump(RF, RF_Model_pkl)\n",
        "# Close the pickle instances\n",
        "RF_Model_pkl.close()"
      ],
      "execution_count": 96,
      "outputs": []
    },
    {
      "cell_type": "markdown",
      "metadata": {
        "papermill": {
          "duration": 0.038121,
          "end_time": "2020-12-25T17:43:11.470076",
          "exception": false,
          "start_time": "2020-12-25T17:43:11.431955",
          "status": "completed"
        },
        "tags": [],
        "id": "ZrObZZ_Mib7w"
      },
      "source": [
        "# XGBoost"
      ]
    },
    {
      "cell_type": "code",
      "metadata": {
        "execution": {
          "iopub.execute_input": "2020-12-25T17:43:11.552381Z",
          "iopub.status.busy": "2020-12-25T17:43:11.551827Z",
          "iopub.status.idle": "2020-12-25T17:43:12.812397Z",
          "shell.execute_reply": "2020-12-25T17:43:12.813307Z"
        },
        "papermill": {
          "duration": 1.305039,
          "end_time": "2020-12-25T17:43:12.813559",
          "exception": false,
          "start_time": "2020-12-25T17:43:11.508520",
          "status": "completed"
        },
        "scrolled": true,
        "tags": [],
        "id": "fFASBYyRib7w",
        "colab": {
          "base_uri": "https://localhost:8080/"
        },
        "outputId": "84a7e376-aaed-438a-d4d2-ba719862301f"
      },
      "source": [
        "import xgboost as xgb\n",
        "XB = xgb.XGBClassifier()\n",
        "XB.fit(Xtrain,Ytrain)\n",
        "\n",
        "predicted_values = XB.predict(Xtest)\n",
        "\n",
        "x = metrics.accuracy_score(Ytest, predicted_values)\n",
        "acc.append(x)\n",
        "model.append('XGBoost')\n",
        "print(\"XGBoost's Accuracy is: \", x)\n",
        "\n",
        "print(classification_report(Ytest,predicted_values))"
      ],
      "execution_count": 97,
      "outputs": [
        {
          "output_type": "stream",
          "name": "stdout",
          "text": [
            "XGBoost's Accuracy is:  0.9931818181818182\n",
            "              precision    recall  f1-score   support\n",
            "\n",
            "       apple       1.00      1.00      1.00        13\n",
            "      banana       1.00      1.00      1.00        17\n",
            "   blackgram       1.00      1.00      1.00        16\n",
            "    chickpea       1.00      1.00      1.00        21\n",
            "     coconut       1.00      1.00      1.00        21\n",
            "      coffee       1.00      1.00      1.00        22\n",
            "      cotton       1.00      1.00      1.00        20\n",
            "      grapes       1.00      1.00      1.00        18\n",
            "        jute       0.96      0.93      0.95        28\n",
            " kidneybeans       1.00      1.00      1.00        14\n",
            "      lentil       1.00      1.00      1.00        23\n",
            "       maize       1.00      1.00      1.00        21\n",
            "       mango       1.00      1.00      1.00        26\n",
            "   mothbeans       1.00      1.00      1.00        19\n",
            "    mungbean       1.00      1.00      1.00        24\n",
            "   muskmelon       1.00      1.00      1.00        23\n",
            "      orange       1.00      1.00      1.00        29\n",
            "      papaya       1.00      1.00      1.00        19\n",
            "  pigeonpeas       1.00      1.00      1.00        18\n",
            " pomegranate       1.00      1.00      1.00        17\n",
            "        rice       0.88      0.94      0.91        16\n",
            "  watermelon       1.00      1.00      1.00        15\n",
            "\n",
            "    accuracy                           0.99       440\n",
            "   macro avg       0.99      0.99      0.99       440\n",
            "weighted avg       0.99      0.99      0.99       440\n",
            "\n"
          ]
        }
      ]
    },
    {
      "cell_type": "code",
      "metadata": {
        "execution": {
          "iopub.execute_input": "2020-12-25T17:43:12.924064Z",
          "iopub.status.busy": "2020-12-25T17:43:12.923449Z",
          "iopub.status.idle": "2020-12-25T17:43:15.062976Z",
          "shell.execute_reply": "2020-12-25T17:43:15.063617Z"
        },
        "papermill": {
          "duration": 2.198243,
          "end_time": "2020-12-25T17:43:15.063762",
          "exception": false,
          "start_time": "2020-12-25T17:43:12.865519",
          "status": "completed"
        },
        "tags": [],
        "id": "tl-ynTShib7w",
        "colab": {
          "base_uri": "https://localhost:8080/"
        },
        "outputId": "a7a21a38-ee13-40bb-fb9d-47cdcc17d225"
      },
      "source": [
        "# Cross validation score (XGBoost)\n",
        "score = cross_val_score(XB,features,target,cv=5)\n",
        "score"
      ],
      "execution_count": 98,
      "outputs": [
        {
          "output_type": "execute_result",
          "data": {
            "text/plain": [
              "array([0.98636364, 0.99318182, 0.99545455, 0.99090909, 0.98409091])"
            ]
          },
          "metadata": {},
          "execution_count": 98
        }
      ]
    },
    {
      "cell_type": "markdown",
      "metadata": {
        "papermill": {
          "duration": 0.05128,
          "end_time": "2020-12-25T17:43:15.166714",
          "exception": false,
          "start_time": "2020-12-25T17:43:15.115434",
          "status": "completed"
        },
        "tags": [],
        "id": "rWYA3Y6Oib7w"
      },
      "source": [
        "### Saving trained XGBoost model"
      ]
    },
    {
      "cell_type": "code",
      "metadata": {
        "execution": {
          "iopub.execute_input": "2020-12-25T17:43:15.270778Z",
          "iopub.status.busy": "2020-12-25T17:43:15.270273Z",
          "iopub.status.idle": "2020-12-25T17:43:15.274049Z",
          "shell.execute_reply": "2020-12-25T17:43:15.273636Z"
        },
        "papermill": {
          "duration": 0.055826,
          "end_time": "2020-12-25T17:43:15.274152",
          "exception": false,
          "start_time": "2020-12-25T17:43:15.218326",
          "status": "completed"
        },
        "tags": [],
        "id": "FhbxWy4Wib7w"
      },
      "source": [
        "import pickle\n",
        "# Dump the trained Naive Bayes classifier with Pickle\n",
        "XB_pkl_filename = 'XGBoost.pkl'\n",
        "# Open the file to save as pkl file\n",
        "XB_Model_pkl = open(XB_pkl_filename, 'wb')\n",
        "pickle.dump(XB, XB_Model_pkl)\n",
        "# Close the pickle instances\n",
        "XB_Model_pkl.close()"
      ],
      "execution_count": 99,
      "outputs": []
    },
    {
      "cell_type": "markdown",
      "metadata": {
        "papermill": {
          "duration": 0.041321,
          "end_time": "2020-12-25T17:43:15.359816",
          "exception": false,
          "start_time": "2020-12-25T17:43:15.318495",
          "status": "completed"
        },
        "tags": [],
        "id": "aDdXnJFHib7w"
      },
      "source": [
        "## Accuracy Comparison"
      ]
    },
    {
      "cell_type": "code",
      "metadata": {
        "execution": {
          "iopub.execute_input": "2020-12-25T17:43:15.441385Z",
          "iopub.status.busy": "2020-12-25T17:43:15.440884Z",
          "iopub.status.idle": "2020-12-25T17:43:15.581323Z",
          "shell.execute_reply": "2020-12-25T17:43:15.581831Z"
        },
        "papermill": {
          "duration": 0.182519,
          "end_time": "2020-12-25T17:43:15.581943",
          "exception": false,
          "start_time": "2020-12-25T17:43:15.399424",
          "status": "completed"
        },
        "tags": [],
        "id": "4YLXIUS0ib7w",
        "colab": {
          "base_uri": "https://localhost:8080/",
          "height": 497
        },
        "outputId": "65e01654-c02e-4ec4-bac4-bc57e8932720"
      },
      "source": [
        "plt.figure(figsize=[10,5],dpi = 100)\n",
        "plt.title('Accuracy Comparison')\n",
        "plt.xlabel('Accuracy')\n",
        "plt.ylabel('Algorithm')\n",
        "sns.barplot(x = acc,y = model,palette='dark')"
      ],
      "execution_count": 100,
      "outputs": [
        {
          "output_type": "execute_result",
          "data": {
            "text/plain": [
              "<matplotlib.axes._subplots.AxesSubplot at 0x7f5404c95790>"
            ]
          },
          "metadata": {},
          "execution_count": 100
        },
        {
          "output_type": "display_data",
          "data": {
            "image/png": "[encoded data removed]",
            "text/plain": [
              "<Figure size 1000x500 with 1 Axes>"
            ]
          },
          "metadata": {
            "needs_background": "light"
          }
        }
      ]
    },
    {
      "cell_type": "code",
      "metadata": {
        "execution": {
          "iopub.execute_input": "2020-12-25T17:43:15.669060Z",
          "iopub.status.busy": "2020-12-25T17:43:15.668535Z",
          "iopub.status.idle": "2020-12-25T17:43:15.672705Z",
          "shell.execute_reply": "2020-12-25T17:43:15.672183Z"
        },
        "papermill": {
          "duration": 0.050176,
          "end_time": "2020-12-25T17:43:15.672789",
          "exception": false,
          "start_time": "2020-12-25T17:43:15.622613",
          "status": "completed"
        },
        "tags": [],
        "id": "MfsaRQEdib7w",
        "colab": {
          "base_uri": "https://localhost:8080/"
        },
        "outputId": "ed983f69-8eaa-49af-b1dd-e58414bdb1b4"
      },
      "source": [
        "accuracy_models = dict(zip(model, acc))\n",
        "for k, v in accuracy_models.items():\n",
        "    print (k, '-->', v)"
      ],
      "execution_count": 101,
      "outputs": [
        {
          "output_type": "stream",
          "name": "stdout",
          "text": [
            "Decision Tree --> 0.9\n",
            "Naive Bayes --> 0.990909090909091\n",
            "SVM --> 0.10681818181818181\n",
            "Logistic Regression --> 0.9522727272727273\n",
            "RF --> 0.990909090909091\n",
            "XGBoost --> 0.9931818181818182\n"
          ]
        }
      ]
    },
    {
      "cell_type": "markdown",
      "metadata": {
        "papermill": {
          "duration": 0.041952,
          "end_time": "2020-12-25T17:43:15.756950",
          "exception": false,
          "start_time": "2020-12-25T17:43:15.714998",
          "status": "completed"
        },
        "tags": [],
        "id": "A8ENeDE0ib7w"
      },
      "source": [
        "## Making a prediction"
      ]
    },
    {
      "cell_type": "code",
      "metadata": {
        "execution": {
          "iopub.execute_input": "2020-12-25T17:43:15.847402Z",
          "iopub.status.busy": "2020-12-25T17:43:15.846830Z",
          "iopub.status.idle": "2020-12-25T17:43:15.850942Z",
          "shell.execute_reply": "2020-12-25T17:43:15.851479Z"
        },
        "papermill": {
          "duration": 0.051889,
          "end_time": "2020-12-25T17:43:15.851583",
          "exception": false,
          "start_time": "2020-12-25T17:43:15.799694",
          "status": "completed"
        },
        "tags": [],
        "id": "UTET7T7Yib7w",
        "colab": {
          "base_uri": "https://localhost:8080/"
        },
        "outputId": "6abb43ca-2e9d-4691-fe8c-ec248bda7e77"
      },
      "source": [
        "data = np.array([[10,18, 3, 13.603016, 50.3, 8.7, 130.98]])\n",
        "prediction = RF.predict(data)\n",
        "print(prediction)"
      ],
      "execution_count": 104,
      "outputs": [
        {
          "output_type": "stream",
          "name": "stdout",
          "text": [
            "['pigeonpeas']\n"
          ]
        }
      ]
    },
    {
      "cell_type": "code",
      "metadata": {
        "execution": {
          "iopub.execute_input": "2020-12-25T17:43:15.937084Z",
          "iopub.status.busy": "2020-12-25T17:43:15.936591Z",
          "iopub.status.idle": "2020-12-25T17:43:15.943917Z",
          "shell.execute_reply": "2020-12-25T17:43:15.944404Z"
        },
        "papermill": {
          "duration": 0.051262,
          "end_time": "2020-12-25T17:43:15.944514",
          "exception": false,
          "start_time": "2020-12-25T17:43:15.893252",
          "status": "completed"
        },
        "tags": [],
        "id": "ihpnUTa5ib7w",
        "colab": {
          "base_uri": "https://localhost:8080/"
        },
        "outputId": "240aaa3a-169d-4c46-d29a-a6e410e27c0c"
      },
      "source": [
        "data = np.array([[100, 65, 88, 40, 61.13, 17.4, 123.45]])\n",
        "prediction = RF.predict(data)\n",
        "print(prediction)"
      ],
      "execution_count": 105,
      "outputs": [
        {
          "output_type": "stream",
          "name": "stdout",
          "text": [
            "['coffee']\n"
          ]
        }
      ]
    },
    {
      "cell_type": "code",
      "metadata": {
        "id": "A-LHkCW1xI08"
      },
      "source": [
        ""
      ],
      "execution_count": null,
      "outputs": []
    }
  ]
}