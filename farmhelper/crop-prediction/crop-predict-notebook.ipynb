{
  "nbformat": 4,
  "nbformat_minor": 0,
  "metadata": {
    "kernelspec": {
      "display_name": "Python 3",
      "language": "python",
      "name": "python3"
    },
    "language_info": {
      "codemirror_mode": {
        "name": "ipython",
        "version": 3
      },
      "file_extension": ".py",
      "mimetype": "text/x-python",
      "name": "python",
      "nbconvert_exporter": "python",
      "pygments_lexer": "ipython3",
      "version": "3.7.6"
    },
    "papermill": {
      "duration": 18.192047,
      "end_time": "2020-12-25T17:43:16.257975",
      "environment_variables": {},
      "exception": null,
      "input_path": "__notebook__.ipynb",
      "output_path": "__notebook__.ipynb",
      "parameters": {},
      "start_time": "2020-12-25T17:42:58.065928",
      "version": "2.1.0"
    },
    "colab": {
      "name": "what-crop-to-grow.ipynb",
      "provenance": []
    }
  },
  "cells": [
    {
      "cell_type": "code",
      "metadata": {
        "colab": {
          "base_uri": "https://localhost:8080/"
        },
        "id": "9eSx_Dd7iuj8",
        "outputId": "bcd9e5b3-acdb-4426-f78d-c36619702c16"
      },
      "source": [
        "!pip install kaggle"
      ],
      "execution_count": 106,
      "outputs": [
        {
          "output_type": "stream",
          "name": "stdout",
          "text": [
            "Requirement already satisfied: kaggle in /usr/local/lib/python3.7/dist-packages (1.5.12)\n",
            "Requirement already satisfied: urllib3 in /usr/local/lib/python3.7/dist-packages (from kaggle) (1.24.3)\n",
            "Requirement already satisfied: six>=1.10 in /usr/local/lib/python3.7/dist-packages (from kaggle) (1.15.0)\n",
            "Requirement already satisfied: python-slugify in /usr/local/lib/python3.7/dist-packages (from kaggle) (5.0.2)\n",
            "Requirement already satisfied: tqdm in /usr/local/lib/python3.7/dist-packages (from kaggle) (4.62.3)\n",
            "Requirement already satisfied: certifi in /usr/local/lib/python3.7/dist-packages (from kaggle) (2021.10.8)\n",
            "Requirement already satisfied: requests in /usr/local/lib/python3.7/dist-packages (from kaggle) (2.23.0)\n",
            "Requirement already satisfied: python-dateutil in /usr/local/lib/python3.7/dist-packages (from kaggle) (2.8.2)\n",
            "Requirement already satisfied: text-unidecode>=1.3 in /usr/local/lib/python3.7/dist-packages (from python-slugify->kaggle) (1.3)\n",
            "Requirement already satisfied: chardet<4,>=3.0.2 in /usr/local/lib/python3.7/dist-packages (from requests->kaggle) (3.0.4)\n",
            "Requirement already satisfied: idna<3,>=2.5 in /usr/local/lib/python3.7/dist-packages (from requests->kaggle) (2.10)\n"
          ]
        }
      ]
    },
    {
      "cell_type": "code",
      "metadata": {
        "id": "s1U6bFkji8xU",
        "colab": {
          "base_uri": "https://localhost:8080/"
        },
        "outputId": "d1b82b1f-bc54-4b62-cb07-2787ea8c419d"
      },
      "source": [
        "mkdir ~/.kaggle"
      ],
      "execution_count": 107,
      "outputs": [
        {
          "output_type": "stream",
          "name": "stdout",
          "text": [
            "mkdir: cannot create directory ‘/root/.kaggle’: File exists\n"
          ]
        }
      ]
    },
    {
      "cell_type": "code",
      "metadata": {
        "id": "kokXjbmyi-VU"
      },
      "source": [
        "cp kaggle.json ~/.kaggle/"
      ],
      "execution_count": 108,
      "outputs": []
    },
    {
      "cell_type": "code",
      "metadata": {
        "id": "g-u-Qkp9kfrA"
      },
      "source": [
        "! chmod 600 ~/.kaggle/kaggle.json"
      ],
      "execution_count": 109,
      "outputs": []
    },
    {
      "cell_type": "code",
      "metadata": {
        "colab": {
          "base_uri": "https://localhost:8080/"
        },
        "id": "A-5kPYojkeTg",
        "outputId": "d5ce8850-1675-4c4b-8a60-ad2bd25f52cd"
      },
      "source": [
        "! kaggle datasets download atharvaingle/crop-recommendation-dataset"
      ],
      "execution_count": 110,
      "outputs": [
        {
          "output_type": "stream",
          "name": "stdout",
          "text": [
            "crop-recommendation-dataset.zip: Skipping, found more recently modified local copy (use --force to force download)\n"
          ]
        }
      ]
    },
    {
      "cell_type": "code",
      "metadata": {
        "id": "jwaS4VVDjAME"
      },
      "source": [
        "#link_for_ds = \"https://www.kaggle.com/atharvaingle/what-crop-to-grow/data\""
      ],
      "execution_count": 111,
      "outputs": []
    },
    {
      "cell_type": "code",
      "metadata": {
        "colab": {
          "base_uri": "https://localhost:8080/"
        },
        "id": "qRJMiqkskbAk",
        "outputId": "247fef35-0d01-4afd-f1b5-b07563fb8036"
      },
      "source": [
        "!unzip crop-recommendation-dataset"
      ],
      "execution_count": 112,
      "outputs": [
        {
          "output_type": "stream",
          "name": "stdout",
          "text": [
            "Archive:  crop-recommendation-dataset.zip\n",
            "replace Crop_recommendation.csv? [y]es, [n]o, [A]ll, [N]one, [r]ename: n\n"
          ]
        }
      ]
    },
    {
      "cell_type": "code",
      "metadata": {
        "execution": {
          "iopub.execute_input": "2020-12-25T17:43:02.667839Z",
          "iopub.status.busy": "2020-12-25T17:43:02.667308Z",
          "iopub.status.idle": "2020-12-25T17:43:03.833552Z",
          "shell.execute_reply": "2020-12-25T17:43:03.833971Z"
        },
        "papermill": {
          "duration": 1.19661,
          "end_time": "2020-12-25T17:43:03.834142",
          "exception": false,
          "start_time": "2020-12-25T17:43:02.637532",
          "status": "completed"
        },
        "tags": [],
        "id": "P4lG-h--ib3E"
      },
      "source": [
        "# Importing libraries\n",
        "\n",
        "from __future__ import print_function\n",
        "import pandas as pd\n",
        "import numpy as np\n",
        "import matplotlib.pyplot as plt\n",
        "import seaborn as sns\n",
        "from sklearn.metrics import classification_report\n",
        "from sklearn import metrics\n",
        "from sklearn import tree\n",
        "import warnings\n",
        "warnings.filterwarnings('ignore')"
      ],
      "execution_count": 113,
      "outputs": []
    },
    {
      "cell_type": "code",
      "metadata": {
        "execution": {
          "iopub.execute_input": "2020-12-25T17:43:03.904908Z",
          "iopub.status.busy": "2020-12-25T17:43:03.904244Z",
          "iopub.status.idle": "2020-12-25T17:43:03.923799Z",
          "shell.execute_reply": "2020-12-25T17:43:03.923260Z"
        },
        "papermill": {
          "duration": 0.061182,
          "end_time": "2020-12-25T17:43:03.923887",
          "exception": false,
          "start_time": "2020-12-25T17:43:03.862705",
          "status": "completed"
        },
        "tags": [],
        "id": "-l_Fv67Iib3E"
      },
      "source": [
        "df = pd.read_csv('Crop_recommendation.csv')"
      ],
      "execution_count": 114,
      "outputs": []
    },
    {
      "cell_type": "code",
      "metadata": {
        "execution": {
          "iopub.execute_input": "2020-12-25T17:43:03.994102Z",
          "iopub.status.busy": "2020-12-25T17:43:03.987500Z",
          "iopub.status.idle": "2020-12-25T17:43:04.003587Z",
          "shell.execute_reply": "2020-12-25T17:43:04.003999Z"
        },
        "papermill": {
          "duration": 0.052002,
          "end_time": "2020-12-25T17:43:04.004101",
          "exception": false,
          "start_time": "2020-12-25T17:43:03.952099",
          "status": "completed"
        },
        "tags": [],
        "id": "xaZJT03gib3E",
        "colab": {
          "base_uri": "https://localhost:8080/",
          "height": 206
        },
        "outputId": "3434a3dd-c736-4cb3-b0b4-fb27253e40c3"
      },
      "source": [
        "df.head()"
      ],
      "execution_count": 115,
      "outputs": [
        {
          "output_type": "execute_result",
          "data": {
            "text/html": [
              "<div>\n",
              "<style scoped>\n",
              "    .dataframe tbody tr th:only-of-type {\n",
              "        vertical-align: middle;\n",
              "    }\n",
              "\n",
              "    .dataframe tbody tr th {\n",
              "        vertical-align: top;\n",
              "    }\n",
              "\n",
              "    .dataframe thead th {\n",
              "        text-align: right;\n",
              "    }\n",
              "</style>\n",
              "<table border=\"1\" class=\"dataframe\">\n",
              "  <thead>\n",
              "    <tr style=\"text-align: right;\">\n",
              "      <th></th>\n",
              "      <th>N</th>\n",
              "      <th>P</th>\n",
              "      <th>K</th>\n",
              "      <th>temperature</th>\n",
              "      <th>humidity</th>\n",
              "      <th>ph</th>\n",
              "      <th>rainfall</th>\n",
              "      <th>label</th>\n",
              "    </tr>\n",
              "  </thead>\n",
              "  <tbody>\n",
              "    <tr>\n",
              "      <th>0</th>\n",
              "      <td>90</td>\n",
              "      <td>42</td>\n",
              "      <td>43</td>\n",
              "      <td>20.879744</td>\n",
              "      <td>82.002744</td>\n",
              "      <td>6.502985</td>\n",
              "      <td>202.935536</td>\n",
              "      <td>rice</td>\n",
              "    </tr>\n",
              "    <tr>\n",
              "      <th>1</th>\n",
              "      <td>85</td>\n",
              "      <td>58</td>\n",
              "      <td>41</td>\n",
              "      <td>21.770462</td>\n",
              "      <td>80.319644</td>\n",
              "      <td>7.038096</td>\n",
              "      <td>226.655537</td>\n",
              "      <td>rice</td>\n",
              "    </tr>\n",
              "    <tr>\n",
              "      <th>2</th>\n",
              "      <td>60</td>\n",
              "      <td>55</td>\n",
              "      <td>44</td>\n",
              "      <td>23.004459</td>\n",
              "      <td>82.320763</td>\n",
              "      <td>7.840207</td>\n",
              "      <td>263.964248</td>\n",
              "      <td>rice</td>\n",
              "    </tr>\n",
              "    <tr>\n",
              "      <th>3</th>\n",
              "      <td>74</td>\n",
              "      <td>35</td>\n",
              "      <td>40</td>\n",
              "      <td>26.491096</td>\n",
              "      <td>80.158363</td>\n",
              "      <td>6.980401</td>\n",
              "      <td>242.864034</td>\n",
              "      <td>rice</td>\n",
              "    </tr>\n",
              "    <tr>\n",
              "      <th>4</th>\n",
              "      <td>78</td>\n",
              "      <td>42</td>\n",
              "      <td>42</td>\n",
              "      <td>20.130175</td>\n",
              "      <td>81.604873</td>\n",
              "      <td>7.628473</td>\n",
              "      <td>262.717340</td>\n",
              "      <td>rice</td>\n",
              "    </tr>\n",
              "  </tbody>\n",
              "</table>\n",
              "</div>"
            ],
            "text/plain": [
              "    N   P   K  temperature   humidity        ph    rainfall label\n",
              "0  90  42  43    20.879744  82.002744  6.502985  202.935536  rice\n",
              "1  85  58  41    21.770462  80.319644  7.038096  226.655537  rice\n",
              "2  60  55  44    23.004459  82.320763  7.840207  263.964248  rice\n",
              "3  74  35  40    26.491096  80.158363  6.980401  242.864034  rice\n",
              "4  78  42  42    20.130175  81.604873  7.628473  262.717340  rice"
            ]
          },
          "metadata": {},
          "execution_count": 115
        }
      ]
    },
    {
      "cell_type": "code",
      "metadata": {
        "execution": {
          "iopub.execute_input": "2020-12-25T17:43:04.134317Z",
          "iopub.status.busy": "2020-12-25T17:43:04.133783Z",
          "iopub.status.idle": "2020-12-25T17:43:04.138137Z",
          "shell.execute_reply": "2020-12-25T17:43:04.138570Z"
        },
        "papermill": {
          "duration": 0.036159,
          "end_time": "2020-12-25T17:43:04.138677",
          "exception": false,
          "start_time": "2020-12-25T17:43:04.102518",
          "status": "completed"
        },
        "tags": [],
        "id": "wiqZqZeRib3E",
        "colab": {
          "base_uri": "https://localhost:8080/"
        },
        "outputId": "1a69070a-7774-4680-b004-6e837b94a282"
      },
      "source": [
        "df.size"
      ],
      "execution_count": 116,
      "outputs": [
        {
          "output_type": "execute_result",
          "data": {
            "text/plain": [
              "17600"
            ]
          },
          "metadata": {},
          "execution_count": 116
        }
      ]
    },
    {
      "cell_type": "code",
      "metadata": {
        "execution": {
          "iopub.execute_input": "2020-12-25T17:43:04.202095Z",
          "iopub.status.busy": "2020-12-25T17:43:04.201299Z",
          "iopub.status.idle": "2020-12-25T17:43:04.204391Z",
          "shell.execute_reply": "2020-12-25T17:43:04.203867Z"
        },
        "papermill": {
          "duration": 0.036024,
          "end_time": "2020-12-25T17:43:04.204476",
          "exception": false,
          "start_time": "2020-12-25T17:43:04.168452",
          "status": "completed"
        },
        "tags": [],
        "id": "Kis8FeJOib3E",
        "colab": {
          "base_uri": "https://localhost:8080/"
        },
        "outputId": "5416e9e2-8f6e-45c5-f0ed-d1ac2b45f019"
      },
      "source": [
        "df.shape"
      ],
      "execution_count": 117,
      "outputs": [
        {
          "output_type": "execute_result",
          "data": {
            "text/plain": [
              "(2200, 8)"
            ]
          },
          "metadata": {},
          "execution_count": 117
        }
      ]
    },
    {
      "cell_type": "code",
      "metadata": {
        "execution": {
          "iopub.execute_input": "2020-12-25T17:43:04.268677Z",
          "iopub.status.busy": "2020-12-25T17:43:04.268159Z",
          "iopub.status.idle": "2020-12-25T17:43:04.271432Z",
          "shell.execute_reply": "2020-12-25T17:43:04.271854Z"
        },
        "papermill": {
          "duration": 0.037048,
          "end_time": "2020-12-25T17:43:04.271958",
          "exception": false,
          "start_time": "2020-12-25T17:43:04.234910",
          "status": "completed"
        },
        "tags": [],
        "id": "tvrNp7wdib3E",
        "colab": {
          "base_uri": "https://localhost:8080/"
        },
        "outputId": "dc6194aa-f904-481d-d479-2bd9c2f7c1ed"
      },
      "source": [
        "df.columns"
      ],
      "execution_count": 118,
      "outputs": [
        {
          "output_type": "execute_result",
          "data": {
            "text/plain": [
              "Index(['N', 'P', 'K', 'temperature', 'humidity', 'ph', 'rainfall', 'label'], dtype='object')"
            ]
          },
          "metadata": {},
          "execution_count": 118
        }
      ]
    },
    {
      "cell_type": "code",
      "metadata": {
        "execution": {
          "iopub.execute_input": "2020-12-25T17:43:04.334754Z",
          "iopub.status.busy": "2020-12-25T17:43:04.334259Z",
          "iopub.status.idle": "2020-12-25T17:43:04.339583Z",
          "shell.execute_reply": "2020-12-25T17:43:04.339050Z"
        },
        "papermill": {
          "duration": 0.037533,
          "end_time": "2020-12-25T17:43:04.339665",
          "exception": false,
          "start_time": "2020-12-25T17:43:04.302132",
          "status": "completed"
        },
        "tags": [],
        "id": "Vw5In4sYib3E",
        "colab": {
          "base_uri": "https://localhost:8080/"
        },
        "outputId": "c7759768-7e12-4cfb-e6f6-54ba90f763d3"
      },
      "source": [
        "df['label'].unique()"
      ],
      "execution_count": 119,
      "outputs": [
        {
          "output_type": "execute_result",
          "data": {
            "text/plain": [
              "array(['rice', 'maize', 'chickpea', 'kidneybeans', 'pigeonpeas',\n",
              "       'mothbeans', 'mungbean', 'blackgram', 'lentil', 'pomegranate',\n",
              "       'banana', 'mango', 'grapes', 'watermelon', 'muskmelon', 'apple',\n",
              "       'orange', 'papaya', 'coconut', 'cotton', 'jute', 'coffee'],\n",
              "      dtype=object)"
            ]
          },
          "metadata": {},
          "execution_count": 119
        }
      ]
    },
    {
      "cell_type": "code",
      "metadata": {
        "execution": {
          "iopub.execute_input": "2020-12-25T17:43:04.406990Z",
          "iopub.status.busy": "2020-12-25T17:43:04.406182Z",
          "iopub.status.idle": "2020-12-25T17:43:04.409397Z",
          "shell.execute_reply": "2020-12-25T17:43:04.409896Z"
        },
        "papermill": {
          "duration": 0.039689,
          "end_time": "2020-12-25T17:43:04.410016",
          "exception": false,
          "start_time": "2020-12-25T17:43:04.370327",
          "status": "completed"
        },
        "tags": [],
        "id": "lkPb3bGyib3E",
        "colab": {
          "base_uri": "https://localhost:8080/"
        },
        "outputId": "cd49a8cf-1890-4dd9-e571-5306efc57edd"
      },
      "source": [
        "df.dtypes"
      ],
      "execution_count": 120,
      "outputs": [
        {
          "output_type": "execute_result",
          "data": {
            "text/plain": [
              "N                int64\n",
              "P                int64\n",
              "K                int64\n",
              "temperature    float64\n",
              "humidity       float64\n",
              "ph             float64\n",
              "rainfall       float64\n",
              "label           object\n",
              "dtype: object"
            ]
          },
          "metadata": {},
          "execution_count": 120
        }
      ]
    },
    {
      "cell_type": "code",
      "metadata": {
        "execution": {
          "iopub.execute_input": "2020-12-25T17:43:04.476169Z",
          "iopub.status.busy": "2020-12-25T17:43:04.475372Z",
          "iopub.status.idle": "2020-12-25T17:43:04.482662Z",
          "shell.execute_reply": "2020-12-25T17:43:04.483123Z"
        },
        "papermill": {
          "duration": 0.041845,
          "end_time": "2020-12-25T17:43:04.483247",
          "exception": false,
          "start_time": "2020-12-25T17:43:04.441402",
          "status": "completed"
        },
        "tags": [],
        "id": "3Zn7QSyjib3E",
        "colab": {
          "base_uri": "https://localhost:8080/"
        },
        "outputId": "683b0d16-7c9f-470a-9428-020d15a47bf4"
      },
      "source": [
        "df['label'].value_counts()"
      ],
      "execution_count": 121,
      "outputs": [
        {
          "output_type": "execute_result",
          "data": {
            "text/plain": [
              "lentil         100\n",
              "maize          100\n",
              "watermelon     100\n",
              "blackgram      100\n",
              "chickpea       100\n",
              "mango          100\n",
              "kidneybeans    100\n",
              "apple          100\n",
              "grapes         100\n",
              "coffee         100\n",
              "pigeonpeas     100\n",
              "mungbean       100\n",
              "muskmelon      100\n",
              "pomegranate    100\n",
              "orange         100\n",
              "cotton         100\n",
              "coconut        100\n",
              "mothbeans      100\n",
              "jute           100\n",
              "rice           100\n",
              "banana         100\n",
              "papaya         100\n",
              "Name: label, dtype: int64"
            ]
          },
          "metadata": {},
          "execution_count": 121
        }
      ]
    },
    {
      "cell_type": "code",
      "metadata": {
        "id": "hK-yom7ql7Js"
      },
      "source": [
        "df=df.set_index('label')"
      ],
      "execution_count": 127,
      "outputs": []
    },
    {
      "cell_type": "code",
      "metadata": {
        "id": "mYMuT6ANqJu4"
      },
      "source": [
        "df=df.drop('apple')"
      ],
      "execution_count": 128,
      "outputs": []
    },
    {
      "cell_type": "code",
      "metadata": {
        "id": "0BDWDi5soo4c"
      },
      "source": [
        "df = df.reset_index()"
      ],
      "execution_count": 129,
      "outputs": []
    },
    {
      "cell_type": "code",
      "metadata": {
        "colab": {
          "base_uri": "https://localhost:8080/",
          "height": 424
        },
        "id": "hiGGasAZozO8",
        "outputId": "f2a0201e-17b8-416b-ad52-fbc55e729aad"
      },
      "source": [
        "df"
      ],
      "execution_count": 130,
      "outputs": [
        {
          "output_type": "execute_result",
          "data": {
            "text/html": [
              "<div>\n",
              "<style scoped>\n",
              "    .dataframe tbody tr th:only-of-type {\n",
              "        vertical-align: middle;\n",
              "    }\n",
              "\n",
              "    .dataframe tbody tr th {\n",
              "        vertical-align: top;\n",
              "    }\n",
              "\n",
              "    .dataframe thead th {\n",
              "        text-align: right;\n",
              "    }\n",
              "</style>\n",
              "<table border=\"1\" class=\"dataframe\">\n",
              "  <thead>\n",
              "    <tr style=\"text-align: right;\">\n",
              "      <th></th>\n",
              "      <th>label</th>\n",
              "      <th>N</th>\n",
              "      <th>P</th>\n",
              "      <th>K</th>\n",
              "      <th>temperature</th>\n",
              "      <th>humidity</th>\n",
              "      <th>ph</th>\n",
              "      <th>rainfall</th>\n",
              "    </tr>\n",
              "  </thead>\n",
              "  <tbody>\n",
              "    <tr>\n",
              "      <th>0</th>\n",
              "      <td>rice</td>\n",
              "      <td>90</td>\n",
              "      <td>42</td>\n",
              "      <td>43</td>\n",
              "      <td>20.879744</td>\n",
              "      <td>82.002744</td>\n",
              "      <td>6.502985</td>\n",
              "      <td>202.935536</td>\n",
              "    </tr>\n",
              "    <tr>\n",
              "      <th>1</th>\n",
              "      <td>rice</td>\n",
              "      <td>85</td>\n",
              "      <td>58</td>\n",
              "      <td>41</td>\n",
              "      <td>21.770462</td>\n",
              "      <td>80.319644</td>\n",
              "      <td>7.038096</td>\n",
              "      <td>226.655537</td>\n",
              "    </tr>\n",
              "    <tr>\n",
              "      <th>2</th>\n",
              "      <td>rice</td>\n",
              "      <td>60</td>\n",
              "      <td>55</td>\n",
              "      <td>44</td>\n",
              "      <td>23.004459</td>\n",
              "      <td>82.320763</td>\n",
              "      <td>7.840207</td>\n",
              "      <td>263.964248</td>\n",
              "    </tr>\n",
              "    <tr>\n",
              "      <th>3</th>\n",
              "      <td>rice</td>\n",
              "      <td>74</td>\n",
              "      <td>35</td>\n",
              "      <td>40</td>\n",
              "      <td>26.491096</td>\n",
              "      <td>80.158363</td>\n",
              "      <td>6.980401</td>\n",
              "      <td>242.864034</td>\n",
              "    </tr>\n",
              "    <tr>\n",
              "      <th>4</th>\n",
              "      <td>rice</td>\n",
              "      <td>78</td>\n",
              "      <td>42</td>\n",
              "      <td>42</td>\n",
              "      <td>20.130175</td>\n",
              "      <td>81.604873</td>\n",
              "      <td>7.628473</td>\n",
              "      <td>262.717340</td>\n",
              "    </tr>\n",
              "    <tr>\n",
              "      <th>...</th>\n",
              "      <td>...</td>\n",
              "      <td>...</td>\n",
              "      <td>...</td>\n",
              "      <td>...</td>\n",
              "      <td>...</td>\n",
              "      <td>...</td>\n",
              "      <td>...</td>\n",
              "      <td>...</td>\n",
              "    </tr>\n",
              "    <tr>\n",
              "      <th>2095</th>\n",
              "      <td>coffee</td>\n",
              "      <td>107</td>\n",
              "      <td>34</td>\n",
              "      <td>32</td>\n",
              "      <td>26.774637</td>\n",
              "      <td>66.413269</td>\n",
              "      <td>6.780064</td>\n",
              "      <td>177.774507</td>\n",
              "    </tr>\n",
              "    <tr>\n",
              "      <th>2096</th>\n",
              "      <td>coffee</td>\n",
              "      <td>99</td>\n",
              "      <td>15</td>\n",
              "      <td>27</td>\n",
              "      <td>27.417112</td>\n",
              "      <td>56.636362</td>\n",
              "      <td>6.086922</td>\n",
              "      <td>127.924610</td>\n",
              "    </tr>\n",
              "    <tr>\n",
              "      <th>2097</th>\n",
              "      <td>coffee</td>\n",
              "      <td>118</td>\n",
              "      <td>33</td>\n",
              "      <td>30</td>\n",
              "      <td>24.131797</td>\n",
              "      <td>67.225123</td>\n",
              "      <td>6.362608</td>\n",
              "      <td>173.322839</td>\n",
              "    </tr>\n",
              "    <tr>\n",
              "      <th>2098</th>\n",
              "      <td>coffee</td>\n",
              "      <td>117</td>\n",
              "      <td>32</td>\n",
              "      <td>34</td>\n",
              "      <td>26.272418</td>\n",
              "      <td>52.127394</td>\n",
              "      <td>6.758793</td>\n",
              "      <td>127.175293</td>\n",
              "    </tr>\n",
              "    <tr>\n",
              "      <th>2099</th>\n",
              "      <td>coffee</td>\n",
              "      <td>104</td>\n",
              "      <td>18</td>\n",
              "      <td>30</td>\n",
              "      <td>23.603016</td>\n",
              "      <td>60.396475</td>\n",
              "      <td>6.779833</td>\n",
              "      <td>140.937041</td>\n",
              "    </tr>\n",
              "  </tbody>\n",
              "</table>\n",
              "<p>2100 rows × 8 columns</p>\n",
              "</div>"
            ],
            "text/plain": [
              "       label    N   P   K  temperature   humidity        ph    rainfall\n",
              "0       rice   90  42  43    20.879744  82.002744  6.502985  202.935536\n",
              "1       rice   85  58  41    21.770462  80.319644  7.038096  226.655537\n",
              "2       rice   60  55  44    23.004459  82.320763  7.840207  263.964248\n",
              "3       rice   74  35  40    26.491096  80.158363  6.980401  242.864034\n",
              "4       rice   78  42  42    20.130175  81.604873  7.628473  262.717340\n",
              "...      ...  ...  ..  ..          ...        ...       ...         ...\n",
              "2095  coffee  107  34  32    26.774637  66.413269  6.780064  177.774507\n",
              "2096  coffee   99  15  27    27.417112  56.636362  6.086922  127.924610\n",
              "2097  coffee  118  33  30    24.131797  67.225123  6.362608  173.322839\n",
              "2098  coffee  117  32  34    26.272418  52.127394  6.758793  127.175293\n",
              "2099  coffee  104  18  30    23.603016  60.396475  6.779833  140.937041\n",
              "\n",
              "[2100 rows x 8 columns]"
            ]
          },
          "metadata": {},
          "execution_count": 130
        }
      ]
    },
    {
      "cell_type": "code",
      "metadata": {
        "colab": {
          "base_uri": "https://localhost:8080/"
        },
        "id": "gMatZTF0nOSA",
        "outputId": "1e3a4f81-6b74-41b3-8ff1-9902aa4f7a48"
      },
      "source": [
        "df['label'].unique()"
      ],
      "execution_count": 131,
      "outputs": [
        {
          "output_type": "execute_result",
          "data": {
            "text/plain": [
              "array(['rice', 'maize', 'chickpea', 'kidneybeans', 'pigeonpeas',\n",
              "       'mothbeans', 'mungbean', 'blackgram', 'lentil', 'pomegranate',\n",
              "       'banana', 'mango', 'grapes', 'watermelon', 'muskmelon', 'orange',\n",
              "       'papaya', 'coconut', 'cotton', 'jute', 'coffee'], dtype=object)"
            ]
          },
          "metadata": {},
          "execution_count": 131
        }
      ]
    },
    {
      "cell_type": "code",
      "metadata": {
        "execution": {
          "iopub.execute_input": "2020-12-25T17:43:04.549902Z",
          "iopub.status.busy": "2020-12-25T17:43:04.549087Z",
          "iopub.status.idle": "2020-12-25T17:43:04.937999Z",
          "shell.execute_reply": "2020-12-25T17:43:04.938534Z"
        },
        "papermill": {
          "duration": 0.423688,
          "end_time": "2020-12-25T17:43:04.938685",
          "exception": false,
          "start_time": "2020-12-25T17:43:04.514997",
          "status": "completed"
        },
        "tags": [],
        "id": "sw-mkRW_ib3E",
        "colab": {
          "base_uri": "https://localhost:8080/",
          "height": 339
        },
        "outputId": "35794b4f-f744-4993-85b1-b651ab6b890c"
      },
      "source": [
        "sns.heatmap(df.corr(),annot=True)"
      ],
      "execution_count": 134,
      "outputs": [
        {
          "output_type": "execute_result",
          "data": {
            "text/plain": [
              "<matplotlib.axes._subplots.AxesSubplot at 0x7f53fbe69a50>"
            ]
          },
          "metadata": {},
          "execution_count": 134
        },
        {
          "output_type": "display_data",
          "data": {
            "image/png": "[encoded data removed]",
            "text/plain": [
              "<Figure size 432x288 with 2 Axes>"
            ]
          },
          "metadata": {
            "needs_background": "light"
          }
        }
      ]
    },
    {
      "cell_type": "code",
      "metadata": {
        "id": "BC0pNdnswV5k"
      },
      "source": [
        "#Seperating features and target label\n",
        "\n",
        "features = df[['N', 'P','K','temperature', 'humidity', 'ph', 'rainfall']]\n",
        "target = df['label']\n",
        "labels = df['label']"
      ],
      "execution_count": 135,
      "outputs": []
    },
    {
      "cell_type": "code",
      "metadata": {
        "id": "WMq64qHCwOKQ"
      },
      "source": [
        "# Initializing empty lists to append all model's name and corresponding name\n",
        "acc = []\n",
        "model = []"
      ],
      "execution_count": 136,
      "outputs": []
    },
    {
      "cell_type": "code",
      "metadata": {
        "id": "B7DufnLKwQoE"
      },
      "source": [
        "# Splitting into train and test data\n",
        "\n",
        "from sklearn.model_selection import train_test_split\n",
        "Xtrain, Xtest, Ytrain, Ytest = train_test_split(features,target,test_size = 0.2,random_state =2)"
      ],
      "execution_count": 137,
      "outputs": []
    },
    {
      "cell_type": "markdown",
      "metadata": {
        "papermill": {
          "duration": 0.033437,
          "end_time": "2020-12-25T17:43:05.306117",
          "exception": false,
          "start_time": "2020-12-25T17:43:05.272680",
          "status": "completed"
        },
        "tags": [],
        "id": "9LXVttz0ib6M"
      },
      "source": [
        "# Decision Tree"
      ]
    },
    {
      "cell_type": "code",
      "metadata": {
        "execution": {
          "iopub.execute_input": "2020-12-25T17:43:05.382104Z",
          "iopub.status.busy": "2020-12-25T17:43:05.381326Z",
          "iopub.status.idle": "2020-12-25T17:43:05.438864Z",
          "shell.execute_reply": "2020-12-25T17:43:05.439274Z"
        },
        "papermill": {
          "duration": 0.093881,
          "end_time": "2020-12-25T17:43:05.439389",
          "exception": false,
          "start_time": "2020-12-25T17:43:05.345508",
          "status": "completed"
        },
        "tags": [],
        "id": "Pl6UE260ib6M",
        "colab": {
          "base_uri": "https://localhost:8080/"
        },
        "outputId": "1066c281-0cdb-40ee-b155-8f022ac407ad"
      },
      "source": [
        "from sklearn.tree import DecisionTreeClassifier\n",
        "\n",
        "DecisionTree = DecisionTreeClassifier(criterion=\"entropy\",random_state=2,max_depth=5)\n",
        "\n",
        "DecisionTree.fit(Xtrain,Ytrain)\n",
        "\n",
        "predicted_values = DecisionTree.predict(Xtest)\n",
        "x = metrics.accuracy_score(Ytest, predicted_values)\n",
        "acc.append(x)\n",
        "model.append('Decision Tree')\n",
        "print(\"DecisionTrees's Accuracy is: \", x*100)\n",
        "\n",
        "print(classification_report(Ytest,predicted_values))"
      ],
      "execution_count": 138,
      "outputs": [
        {
          "output_type": "stream",
          "name": "stdout",
          "text": [
            "DecisionTrees's Accuracy is:  92.61904761904762\n",
            "              precision    recall  f1-score   support\n",
            "\n",
            "      banana       0.91      1.00      0.95        20\n",
            "   blackgram       0.72      0.95      0.82        22\n",
            "    chickpea       1.00      1.00      1.00        21\n",
            "     coconut       1.00      1.00      1.00        19\n",
            "      coffee       1.00      0.95      0.98        21\n",
            "      cotton       1.00      1.00      1.00        22\n",
            "      grapes       1.00      1.00      1.00        13\n",
            "        jute       1.00      0.29      0.45        17\n",
            " kidneybeans       1.00      0.85      0.92        20\n",
            "      lentil       0.91      0.77      0.83        13\n",
            "       maize       0.77      0.94      0.85        18\n",
            "       mango       1.00      1.00      1.00        18\n",
            "   mothbeans       0.81      0.62      0.70        21\n",
            "    mungbean       1.00      1.00      1.00        23\n",
            "   muskmelon       1.00      1.00      1.00        24\n",
            "      orange       1.00      1.00      1.00        21\n",
            "      papaya       1.00      0.93      0.96        27\n",
            "  pigeonpeas       1.00      1.00      1.00        21\n",
            " pomegranate       1.00      1.00      1.00        18\n",
            "        rice       0.61      1.00      0.76        19\n",
            "  watermelon       1.00      1.00      1.00        22\n",
            "\n",
            "    accuracy                           0.93       420\n",
            "   macro avg       0.94      0.92      0.92       420\n",
            "weighted avg       0.94      0.93      0.92       420\n",
            "\n"
          ]
        }
      ]
    },
    {
      "cell_type": "code",
      "metadata": {
        "execution": {
          "iopub.execute_input": "2020-12-25T17:43:05.511318Z",
          "iopub.status.busy": "2020-12-25T17:43:05.510628Z",
          "iopub.status.idle": "2020-12-25T17:43:05.513354Z",
          "shell.execute_reply": "2020-12-25T17:43:05.512823Z"
        },
        "papermill": {
          "duration": 0.039972,
          "end_time": "2020-12-25T17:43:05.513438",
          "exception": false,
          "start_time": "2020-12-25T17:43:05.473466",
          "status": "completed"
        },
        "tags": [],
        "id": "w3sMzJ8vib6M"
      },
      "source": [
        "from sklearn.model_selection import cross_val_score"
      ],
      "execution_count": 139,
      "outputs": []
    },
    {
      "cell_type": "code",
      "metadata": {
        "execution": {
          "iopub.execute_input": "2020-12-25T17:43:05.589874Z",
          "iopub.status.busy": "2020-12-25T17:43:05.589360Z",
          "iopub.status.idle": "2020-12-25T17:43:05.718348Z",
          "shell.execute_reply": "2020-12-25T17:43:05.718933Z"
        },
        "papermill": {
          "duration": 0.171655,
          "end_time": "2020-12-25T17:43:05.719081",
          "exception": false,
          "start_time": "2020-12-25T17:43:05.547426",
          "status": "completed"
        },
        "tags": [],
        "id": "TMgfSXKtib6M"
      },
      "source": [
        "# Cross validation score (Decision Tree)\n",
        "score = cross_val_score(DecisionTree, features, target,cv=5)"
      ],
      "execution_count": 140,
      "outputs": []
    },
    {
      "cell_type": "code",
      "metadata": {
        "execution": {
          "iopub.execute_input": "2020-12-25T17:43:05.798346Z",
          "iopub.status.busy": "2020-12-25T17:43:05.797578Z",
          "iopub.status.idle": "2020-12-25T17:43:05.801313Z",
          "shell.execute_reply": "2020-12-25T17:43:05.800784Z"
        },
        "papermill": {
          "duration": 0.044583,
          "end_time": "2020-12-25T17:43:05.801407",
          "exception": false,
          "start_time": "2020-12-25T17:43:05.756824",
          "status": "completed"
        },
        "tags": [],
        "id": "K-GkEJF1ib6M",
        "colab": {
          "base_uri": "https://localhost:8080/"
        },
        "outputId": "5654054a-65c4-4040-892c-571b621440dc"
      },
      "source": [
        "score"
      ],
      "execution_count": 141,
      "outputs": [
        {
          "output_type": "execute_result",
          "data": {
            "text/plain": [
              "array([0.9547619 , 0.92857143, 0.93333333, 0.9452381 , 0.94285714])"
            ]
          },
          "metadata": {},
          "execution_count": 141
        }
      ]
    },
    {
      "cell_type": "markdown",
      "metadata": {
        "papermill": {
          "duration": 0.0343,
          "end_time": "2020-12-25T17:43:05.870225",
          "exception": false,
          "start_time": "2020-12-25T17:43:05.835925",
          "status": "completed"
        },
        "tags": [],
        "id": "t7MHSenFib6M"
      },
      "source": [
        "### Saving trained Decision Tree model"
      ]
    },
    {
      "cell_type": "code",
      "metadata": {
        "execution": {
          "iopub.execute_input": "2020-12-25T17:43:05.945134Z",
          "iopub.status.busy": "2020-12-25T17:43:05.944323Z",
          "iopub.status.idle": "2020-12-25T17:43:05.947948Z",
          "shell.execute_reply": "2020-12-25T17:43:05.947482Z"
        },
        "papermill": {
          "duration": 0.042144,
          "end_time": "2020-12-25T17:43:05.948033",
          "exception": false,
          "start_time": "2020-12-25T17:43:05.905889",
          "status": "completed"
        },
        "tags": [],
        "id": "88XllNWNib6M"
      },
      "source": [
        "import pickle\n",
        "# Dump the trained Naive Bayes classifier with Pickle\n",
        "DT_pkl_filename = 'DecisionTree.pkl'\n",
        "# Open the file to save as pkl file\n",
        "DT_Model_pkl = open(DT_pkl_filename, 'wb')\n",
        "pickle.dump(DecisionTree, DT_Model_pkl)\n",
        "# Close the pickle instances\n",
        "DT_Model_pkl.close()"
      ],
      "execution_count": 142,
      "outputs": []
    },
    {
      "cell_type": "markdown",
      "metadata": {
        "papermill": {
          "duration": 0.034983,
          "end_time": "2020-12-25T17:43:06.017890",
          "exception": false,
          "start_time": "2020-12-25T17:43:05.982907",
          "status": "completed"
        },
        "tags": [],
        "id": "uJCmFj9Jib6M"
      },
      "source": [
        "# Guassian Naive Bayes"
      ]
    },
    {
      "cell_type": "code",
      "metadata": {
        "execution": {
          "iopub.execute_input": "2020-12-25T17:43:06.092862Z",
          "iopub.status.busy": "2020-12-25T17:43:06.092358Z",
          "iopub.status.idle": "2020-12-25T17:43:06.123423Z",
          "shell.execute_reply": "2020-12-25T17:43:06.122645Z"
        },
        "papermill": {
          "duration": 0.070847,
          "end_time": "2020-12-25T17:43:06.123543",
          "exception": false,
          "start_time": "2020-12-25T17:43:06.052696",
          "status": "completed"
        },
        "tags": [],
        "id": "1tcyh-t2ib6M",
        "colab": {
          "base_uri": "https://localhost:8080/"
        },
        "outputId": "55677594-b155-440a-fed4-d23fc295ad1b"
      },
      "source": [
        "from sklearn.naive_bayes import GaussianNB\n",
        "\n",
        "NaiveBayes = GaussianNB()\n",
        "\n",
        "NaiveBayes.fit(Xtrain,Ytrain)\n",
        "\n",
        "predicted_values = NaiveBayes.predict(Xtest)\n",
        "x = metrics.accuracy_score(Ytest, predicted_values)\n",
        "acc.append(x)\n",
        "model.append('Naive Bayes')\n",
        "print(\"Naive Bayes's Accuracy is: \", x)\n",
        "\n",
        "print(classification_report(Ytest,predicted_values))"
      ],
      "execution_count": 143,
      "outputs": [
        {
          "output_type": "stream",
          "name": "stdout",
          "text": [
            "Naive Bayes's Accuracy is:  0.9904761904761905\n",
            "              precision    recall  f1-score   support\n",
            "\n",
            "      banana       1.00      1.00      1.00        20\n",
            "   blackgram       1.00      1.00      1.00        22\n",
            "    chickpea       1.00      1.00      1.00        21\n",
            "     coconut       1.00      1.00      1.00        19\n",
            "      coffee       1.00      1.00      1.00        21\n",
            "      cotton       1.00      1.00      1.00        22\n",
            "      grapes       1.00      1.00      1.00        13\n",
            "        jute       0.85      1.00      0.92        17\n",
            " kidneybeans       1.00      1.00      1.00        20\n",
            "      lentil       0.93      1.00      0.96        13\n",
            "       maize       1.00      1.00      1.00        18\n",
            "       mango       1.00      1.00      1.00        18\n",
            "   mothbeans       1.00      0.95      0.98        21\n",
            "    mungbean       1.00      1.00      1.00        23\n",
            "   muskmelon       1.00      1.00      1.00        24\n",
            "      orange       1.00      1.00      1.00        21\n",
            "      papaya       1.00      1.00      1.00        27\n",
            "  pigeonpeas       1.00      1.00      1.00        21\n",
            " pomegranate       1.00      1.00      1.00        18\n",
            "        rice       1.00      0.84      0.91        19\n",
            "  watermelon       1.00      1.00      1.00        22\n",
            "\n",
            "    accuracy                           0.99       420\n",
            "   macro avg       0.99      0.99      0.99       420\n",
            "weighted avg       0.99      0.99      0.99       420\n",
            "\n"
          ]
        }
      ]
    },
    {
      "cell_type": "code",
      "metadata": {
        "execution": {
          "iopub.execute_input": "2020-12-25T17:43:06.203190Z",
          "iopub.status.busy": "2020-12-25T17:43:06.202681Z",
          "iopub.status.idle": "2020-12-25T17:43:06.261683Z",
          "shell.execute_reply": "2020-12-25T17:43:06.261166Z"
        },
        "papermill": {
          "duration": 0.102386,
          "end_time": "2020-12-25T17:43:06.261768",
          "exception": false,
          "start_time": "2020-12-25T17:43:06.159382",
          "status": "completed"
        },
        "tags": [],
        "id": "sTG_VsVVib6M",
        "colab": {
          "base_uri": "https://localhost:8080/"
        },
        "outputId": "064282c1-5b09-4655-8f23-4191ccca4966"
      },
      "source": [
        "# Cross validation score (NaiveBayes)\n",
        "score = cross_val_score(NaiveBayes,features,target,cv=5)\n",
        "score"
      ],
      "execution_count": 144,
      "outputs": [
        {
          "output_type": "execute_result",
          "data": {
            "text/plain": [
              "array([0.99761905, 0.9952381 , 0.9952381 , 0.9952381 , 0.99047619])"
            ]
          },
          "metadata": {},
          "execution_count": 144
        }
      ]
    },
    {
      "cell_type": "markdown",
      "metadata": {
        "papermill": {
          "duration": 0.036802,
          "end_time": "2020-12-25T17:43:06.334100",
          "exception": false,
          "start_time": "2020-12-25T17:43:06.297298",
          "status": "completed"
        },
        "tags": [],
        "id": "lp_s3dCaib6M"
      },
      "source": [
        "### Saving trained Guassian Naive Bayes model"
      ]
    },
    {
      "cell_type": "code",
      "metadata": {
        "execution": {
          "iopub.execute_input": "2020-12-25T17:43:06.410122Z",
          "iopub.status.busy": "2020-12-25T17:43:06.409274Z",
          "iopub.status.idle": "2020-12-25T17:43:06.412458Z",
          "shell.execute_reply": "2020-12-25T17:43:06.412833Z"
        },
        "papermill": {
          "duration": 0.04339,
          "end_time": "2020-12-25T17:43:06.412936",
          "exception": false,
          "start_time": "2020-12-25T17:43:06.369546",
          "status": "completed"
        },
        "tags": [],
        "id": "8NXnssQcib6M"
      },
      "source": [
        "import pickle\n",
        "# Dump the trained Naive Bayes classifier with Pickle\n",
        "NB_pkl_filename = 'NBClassifier.pkl'\n",
        "# Open the file to save as pkl file\n",
        "NB_Model_pkl = open(NB_pkl_filename, 'wb')\n",
        "pickle.dump(NaiveBayes, NB_Model_pkl)\n",
        "# Close the pickle instances\n",
        "NB_Model_pkl.close()"
      ],
      "execution_count": 145,
      "outputs": []
    },
    {
      "cell_type": "markdown",
      "metadata": {
        "papermill": {
          "duration": 0.035345,
          "end_time": "2020-12-25T17:43:06.484035",
          "exception": false,
          "start_time": "2020-12-25T17:43:06.448690",
          "status": "completed"
        },
        "tags": [],
        "id": "73bWRPbaib6M"
      },
      "source": [
        "# Support Vector Machine (SVM)"
      ]
    },
    {
      "cell_type": "code",
      "metadata": {
        "execution": {
          "iopub.execute_input": "2020-12-25T17:43:06.565060Z",
          "iopub.status.busy": "2020-12-25T17:43:06.564230Z",
          "iopub.status.idle": "2020-12-25T17:43:06.909287Z",
          "shell.execute_reply": "2020-12-25T17:43:06.908536Z"
        },
        "papermill": {
          "duration": 0.389805,
          "end_time": "2020-12-25T17:43:06.909391",
          "exception": false,
          "start_time": "2020-12-25T17:43:06.519586",
          "status": "completed"
        },
        "tags": [],
        "id": "CwgNAtvqib6M",
        "colab": {
          "base_uri": "https://localhost:8080/"
        },
        "outputId": "2a7be689-f9f7-4bb5-86a4-fb5695c74ddf"
      },
      "source": [
        "from sklearn.svm import SVC\n",
        "\n",
        "SVM = SVC(gamma='auto')\n",
        "\n",
        "SVM.fit(Xtrain,Ytrain)\n",
        "\n",
        "predicted_values = SVM.predict(Xtest)\n",
        "\n",
        "x = metrics.accuracy_score(Ytest, predicted_values)\n",
        "acc.append(x)\n",
        "model.append('SVM')\n",
        "print(\"SVM's Accuracy is: \", x)\n",
        "\n",
        "print(classification_report(Ytest,predicted_values))"
      ],
      "execution_count": 146,
      "outputs": [
        {
          "output_type": "stream",
          "name": "stdout",
          "text": [
            "SVM's Accuracy is:  0.0880952380952381\n",
            "              precision    recall  f1-score   support\n",
            "\n",
            "      banana       1.00      0.10      0.18        20\n",
            "   blackgram       1.00      0.09      0.17        22\n",
            "    chickpea       1.00      0.05      0.09        21\n",
            "     coconut       1.00      0.11      0.19        19\n",
            "      coffee       0.00      0.00      0.00        21\n",
            "      cotton       1.00      0.05      0.09        22\n",
            "      grapes       0.03      1.00      0.06        13\n",
            "        jute       1.00      0.06      0.11        17\n",
            " kidneybeans       1.00      0.05      0.10        20\n",
            "      lentil       1.00      0.15      0.27        13\n",
            "       maize       0.00      0.00      0.00        18\n",
            "       mango       1.00      0.11      0.20        18\n",
            "   mothbeans       0.00      0.00      0.00        21\n",
            "    mungbean       1.00      0.04      0.08        23\n",
            "   muskmelon       1.00      0.25      0.40        24\n",
            "      orange       0.00      0.00      0.00        21\n",
            "      papaya       0.00      0.00      0.00        27\n",
            "  pigeonpeas       0.00      0.00      0.00        21\n",
            " pomegranate       1.00      0.11      0.20        18\n",
            "        rice       1.00      0.05      0.10        19\n",
            "  watermelon       0.00      0.00      0.00        22\n",
            "\n",
            "    accuracy                           0.09       420\n",
            "   macro avg       0.62      0.11      0.11       420\n",
            "weighted avg       0.61      0.09      0.10       420\n",
            "\n"
          ]
        }
      ]
    },
    {
      "cell_type": "code",
      "metadata": {
        "execution": {
          "iopub.execute_input": "2020-12-25T17:43:06.990224Z",
          "iopub.status.busy": "2020-12-25T17:43:06.989697Z",
          "iopub.status.idle": "2020-12-25T17:43:08.573874Z",
          "shell.execute_reply": "2020-12-25T17:43:08.573394Z"
        },
        "papermill": {
          "duration": 1.628093,
          "end_time": "2020-12-25T17:43:08.573970",
          "exception": false,
          "start_time": "2020-12-25T17:43:06.945877",
          "status": "completed"
        },
        "tags": [],
        "id": "Bphuw-ayib6M",
        "colab": {
          "base_uri": "https://localhost:8080/"
        },
        "outputId": "d306949f-74c6-401c-ca18-eefa152e2016"
      },
      "source": [
        "# Cross validation score (SVM)\n",
        "score = cross_val_score(SVM,features,target,cv=5)\n",
        "score"
      ],
      "execution_count": 147,
      "outputs": [
        {
          "output_type": "execute_result",
          "data": {
            "text/plain": [
              "array([0.27142857, 0.28333333, 0.27857143, 0.26428571, 0.26666667])"
            ]
          },
          "metadata": {},
          "execution_count": 147
        }
      ]
    },
    {
      "cell_type": "markdown",
      "metadata": {
        "papermill": {
          "duration": 0.036295,
          "end_time": "2020-12-25T17:43:08.647681",
          "exception": false,
          "start_time": "2020-12-25T17:43:08.611386",
          "status": "completed"
        },
        "tags": [],
        "id": "0uc8eo2Aib6M"
      },
      "source": [
        "# Logistic Regression"
      ]
    },
    {
      "cell_type": "code",
      "metadata": {
        "execution": {
          "iopub.execute_input": "2020-12-25T17:43:08.728752Z",
          "iopub.status.busy": "2020-12-25T17:43:08.728228Z",
          "iopub.status.idle": "2020-12-25T17:43:08.990800Z",
          "shell.execute_reply": "2020-12-25T17:43:08.991758Z"
        },
        "papermill": {
          "duration": 0.308032,
          "end_time": "2020-12-25T17:43:08.991925",
          "exception": false,
          "start_time": "2020-12-25T17:43:08.683893",
          "status": "completed"
        },
        "tags": [],
        "id": "NU82wXNCib6M",
        "colab": {
          "base_uri": "https://localhost:8080/"
        },
        "outputId": "cfacdce7-13c6-4dd1-8236-b3c16fa80fe8"
      },
      "source": [
        "from sklearn.linear_model import LogisticRegression\n",
        "\n",
        "LogReg = LogisticRegression(random_state=2)\n",
        "\n",
        "LogReg.fit(Xtrain,Ytrain)\n",
        "\n",
        "predicted_values = LogReg.predict(Xtest)\n",
        "\n",
        "x = metrics.accuracy_score(Ytest, predicted_values)\n",
        "acc.append(x)\n",
        "model.append('Logistic Regression')\n",
        "print(\"Logistic Regression's Accuracy is: \", x)\n",
        "\n",
        "print(classification_report(Ytest,predicted_values))"
      ],
      "execution_count": 148,
      "outputs": [
        {
          "output_type": "stream",
          "name": "stdout",
          "text": [
            "Logistic Regression's Accuracy is:  0.95\n",
            "              precision    recall  f1-score   support\n",
            "\n",
            "      banana       1.00      1.00      1.00        20\n",
            "   blackgram       0.86      0.82      0.84        22\n",
            "    chickpea       1.00      1.00      1.00        21\n",
            "     coconut       1.00      1.00      1.00        19\n",
            "      coffee       0.95      1.00      0.98        21\n",
            "      cotton       0.95      0.95      0.95        22\n",
            "      grapes       1.00      1.00      1.00        13\n",
            "        jute       0.79      0.88      0.83        17\n",
            " kidneybeans       1.00      1.00      1.00        20\n",
            "      lentil       0.67      0.92      0.77        13\n",
            "       maize       0.94      0.94      0.94        18\n",
            "       mango       1.00      1.00      1.00        18\n",
            "   mothbeans       0.84      0.76      0.80        21\n",
            "    mungbean       1.00      0.87      0.93        23\n",
            "   muskmelon       1.00      1.00      1.00        24\n",
            "      orange       1.00      1.00      1.00        21\n",
            "      papaya       1.00      1.00      1.00        27\n",
            "  pigeonpeas       0.95      1.00      0.98        21\n",
            " pomegranate       1.00      1.00      1.00        18\n",
            "        rice       0.94      0.79      0.86        19\n",
            "  watermelon       1.00      1.00      1.00        22\n",
            "\n",
            "    accuracy                           0.95       420\n",
            "   macro avg       0.95      0.95      0.95       420\n",
            "weighted avg       0.95      0.95      0.95       420\n",
            "\n"
          ]
        }
      ]
    },
    {
      "cell_type": "code",
      "metadata": {
        "execution": {
          "iopub.execute_input": "2020-12-25T17:43:09.075523Z",
          "iopub.status.busy": "2020-12-25T17:43:09.074734Z",
          "iopub.status.idle": "2020-12-25T17:43:10.325402Z",
          "shell.execute_reply": "2020-12-25T17:43:10.324751Z"
        },
        "papermill": {
          "duration": 1.295368,
          "end_time": "2020-12-25T17:43:10.325521",
          "exception": false,
          "start_time": "2020-12-25T17:43:09.030153",
          "status": "completed"
        },
        "tags": [],
        "id": "xhAzXMtJib6M",
        "colab": {
          "base_uri": "https://localhost:8080/"
        },
        "outputId": "b30d0af1-c040-4d95-f910-e42801cf1789"
      },
      "source": [
        "# Cross validation score (Logistic Regression)\n",
        "score = cross_val_score(LogReg,features,target,cv=5)\n",
        "score"
      ],
      "execution_count": 149,
      "outputs": [
        {
          "output_type": "execute_result",
          "data": {
            "text/plain": [
              "array([0.94761905, 0.96428571, 0.9452381 , 0.9547619 , 0.93809524])"
            ]
          },
          "metadata": {},
          "execution_count": 149
        }
      ]
    },
    {
      "cell_type": "markdown",
      "metadata": {
        "papermill": {
          "duration": 0.036969,
          "end_time": "2020-12-25T17:43:10.400190",
          "exception": false,
          "start_time": "2020-12-25T17:43:10.363221",
          "status": "completed"
        },
        "tags": [],
        "id": "SBR7iQ0dib7w"
      },
      "source": [
        "### Saving trained Logistic Regression model"
      ]
    },
    {
      "cell_type": "code",
      "metadata": {
        "execution": {
          "iopub.execute_input": "2020-12-25T17:43:10.479119Z",
          "iopub.status.busy": "2020-12-25T17:43:10.478510Z",
          "iopub.status.idle": "2020-12-25T17:43:10.481619Z",
          "shell.execute_reply": "2020-12-25T17:43:10.481049Z"
        },
        "papermill": {
          "duration": 0.044327,
          "end_time": "2020-12-25T17:43:10.481704",
          "exception": false,
          "start_time": "2020-12-25T17:43:10.437377",
          "status": "completed"
        },
        "tags": [],
        "id": "gH1Lj8Oeib7w"
      },
      "source": [
        "import pickle\n",
        "# Dump the trained Naive Bayes classifier with Pickle\n",
        "LR_pkl_filename = 'LogisticRegression.pkl'\n",
        "# Open the file to save as pkl file\n",
        "LR_Model_pkl = open(DT_pkl_filename, 'wb')\n",
        "pickle.dump(LogReg, LR_Model_pkl)\n",
        "# Close the pickle instances\n",
        "LR_Model_pkl.close()"
      ],
      "execution_count": 150,
      "outputs": []
    },
    {
      "cell_type": "markdown",
      "metadata": {
        "papermill": {
          "duration": 0.037258,
          "end_time": "2020-12-25T17:43:10.556881",
          "exception": false,
          "start_time": "2020-12-25T17:43:10.519623",
          "status": "completed"
        },
        "tags": [],
        "id": "0S3t8FTRib7w"
      },
      "source": [
        "# Random Forest"
      ]
    },
    {
      "cell_type": "code",
      "metadata": {
        "execution": {
          "iopub.execute_input": "2020-12-25T17:43:10.637176Z",
          "iopub.status.busy": "2020-12-25T17:43:10.636618Z",
          "iopub.status.idle": "2020-12-25T17:43:10.758714Z",
          "shell.execute_reply": "2020-12-25T17:43:10.758234Z"
        },
        "papermill": {
          "duration": 0.164699,
          "end_time": "2020-12-25T17:43:10.758807",
          "exception": false,
          "start_time": "2020-12-25T17:43:10.594108",
          "status": "completed"
        },
        "tags": [],
        "id": "FG3gmBm2ib7w",
        "colab": {
          "base_uri": "https://localhost:8080/"
        },
        "outputId": "f04cf8c9-dccf-4721-e80b-e133fe06008f"
      },
      "source": [
        "from sklearn.ensemble import RandomForestClassifier\n",
        "\n",
        "RF = RandomForestClassifier(n_estimators=20, random_state=0)\n",
        "RF.fit(Xtrain,Ytrain)\n",
        "\n",
        "predicted_values = RF.predict(Xtest)\n",
        "\n",
        "x = metrics.accuracy_score(Ytest, predicted_values)\n",
        "acc.append(x)\n",
        "model.append('RF')\n",
        "print(\"RF's Accuracy is: \", x)\n",
        "\n",
        "print(classification_report(Ytest,predicted_values))"
      ],
      "execution_count": 151,
      "outputs": [
        {
          "output_type": "stream",
          "name": "stdout",
          "text": [
            "RF's Accuracy is:  0.9880952380952381\n",
            "              precision    recall  f1-score   support\n",
            "\n",
            "      banana       0.95      1.00      0.98        20\n",
            "   blackgram       1.00      1.00      1.00        22\n",
            "    chickpea       1.00      1.00      1.00        21\n",
            "     coconut       1.00      1.00      1.00        19\n",
            "      coffee       1.00      1.00      1.00        21\n",
            "      cotton       1.00      1.00      1.00        22\n",
            "      grapes       1.00      1.00      1.00        13\n",
            "        jute       0.81      1.00      0.89        17\n",
            " kidneybeans       1.00      1.00      1.00        20\n",
            "      lentil       1.00      1.00      1.00        13\n",
            "       maize       1.00      1.00      1.00        18\n",
            "       mango       1.00      1.00      1.00        18\n",
            "   mothbeans       1.00      1.00      1.00        21\n",
            "    mungbean       1.00      1.00      1.00        23\n",
            "   muskmelon       1.00      1.00      1.00        24\n",
            "      orange       1.00      1.00      1.00        21\n",
            "      papaya       1.00      0.96      0.98        27\n",
            "  pigeonpeas       1.00      1.00      1.00        21\n",
            " pomegranate       1.00      1.00      1.00        18\n",
            "        rice       1.00      0.79      0.88        19\n",
            "  watermelon       1.00      1.00      1.00        22\n",
            "\n",
            "    accuracy                           0.99       420\n",
            "   macro avg       0.99      0.99      0.99       420\n",
            "weighted avg       0.99      0.99      0.99       420\n",
            "\n"
          ]
        }
      ]
    },
    {
      "cell_type": "code",
      "metadata": {
        "execution": {
          "iopub.execute_input": "2020-12-25T17:43:10.844782Z",
          "iopub.status.busy": "2020-12-25T17:43:10.843900Z",
          "iopub.status.idle": "2020-12-25T17:43:11.231113Z",
          "shell.execute_reply": "2020-12-25T17:43:11.231511Z"
        },
        "papermill": {
          "duration": 0.434587,
          "end_time": "2020-12-25T17:43:11.231643",
          "exception": false,
          "start_time": "2020-12-25T17:43:10.797056",
          "status": "completed"
        },
        "tags": [],
        "id": "SG3cS1dGib7w",
        "colab": {
          "base_uri": "https://localhost:8080/"
        },
        "outputId": "81b4e65c-c9c3-4ffc-a645-bcb8efabcf3c"
      },
      "source": [
        "# Cross validation score (Random Forest)\n",
        "score = cross_val_score(RF,features,target,cv=5)\n",
        "score"
      ],
      "execution_count": 152,
      "outputs": [
        {
          "output_type": "execute_result",
          "data": {
            "text/plain": [
              "array([0.99761905, 0.98809524, 0.99285714, 0.99285714, 0.98571429])"
            ]
          },
          "metadata": {},
          "execution_count": 152
        }
      ]
    },
    {
      "cell_type": "markdown",
      "metadata": {
        "papermill": {
          "duration": 0.038083,
          "end_time": "2020-12-25T17:43:11.308318",
          "exception": false,
          "start_time": "2020-12-25T17:43:11.270235",
          "status": "completed"
        },
        "tags": [],
        "id": "_5EMhMAvib7w"
      },
      "source": [
        "### Saving trained Random Forest model"
      ]
    },
    {
      "cell_type": "code",
      "metadata": {
        "execution": {
          "iopub.execute_input": "2020-12-25T17:43:11.390665Z",
          "iopub.status.busy": "2020-12-25T17:43:11.389962Z",
          "iopub.status.idle": "2020-12-25T17:43:11.392903Z",
          "shell.execute_reply": "2020-12-25T17:43:11.393320Z"
        },
        "papermill": {
          "duration": 0.046946,
          "end_time": "2020-12-25T17:43:11.393431",
          "exception": false,
          "start_time": "2020-12-25T17:43:11.346485",
          "status": "completed"
        },
        "tags": [],
        "id": "k22xXzfIib7w"
      },
      "source": [
        "import pickle\n",
        "# Dump the trained Naive Bayes classifier with Pickle\n",
        "RF_pkl_filename = 'RandomForest.pkl'\n",
        "# Open the file to save as pkl file\n",
        "RF_Model_pkl = open(RF_pkl_filename, 'wb')\n",
        "pickle.dump(RF, RF_Model_pkl)\n",
        "# Close the pickle instances\n",
        "RF_Model_pkl.close()"
      ],
      "execution_count": 153,
      "outputs": []
    },
    {
      "cell_type": "markdown",
      "metadata": {
        "papermill": {
          "duration": 0.038121,
          "end_time": "2020-12-25T17:43:11.470076",
          "exception": false,
          "start_time": "2020-12-25T17:43:11.431955",
          "status": "completed"
        },
        "tags": [],
        "id": "ZrObZZ_Mib7w"
      },
      "source": [
        "# XGBoost"
      ]
    },
    {
      "cell_type": "code",
      "metadata": {
        "execution": {
          "iopub.execute_input": "2020-12-25T17:43:11.552381Z",
          "iopub.status.busy": "2020-12-25T17:43:11.551827Z",
          "iopub.status.idle": "2020-12-25T17:43:12.812397Z",
          "shell.execute_reply": "2020-12-25T17:43:12.813307Z"
        },
        "papermill": {
          "duration": 1.305039,
          "end_time": "2020-12-25T17:43:12.813559",
          "exception": false,
          "start_time": "2020-12-25T17:43:11.508520",
          "status": "completed"
        },
        "scrolled": true,
        "tags": [],
        "id": "fFASBYyRib7w",
        "colab": {
          "base_uri": "https://localhost:8080/"
        },
        "outputId": "b2d58e35-dc2d-493c-b4f7-850ec77366a7"
      },
      "source": [
        "import xgboost as xgb\n",
        "XB = xgb.XGBClassifier()\n",
        "XB.fit(Xtrain,Ytrain)\n",
        "\n",
        "predicted_values = XB.predict(Xtest)\n",
        "\n",
        "x = metrics.accuracy_score(Ytest, predicted_values)\n",
        "acc.append(x)\n",
        "model.append('XGBoost')\n",
        "print(\"XGBoost's Accuracy is: \", x)\n",
        "\n",
        "print(classification_report(Ytest,predicted_values))"
      ],
      "execution_count": 154,
      "outputs": [
        {
          "output_type": "stream",
          "name": "stdout",
          "text": [
            "XGBoost's Accuracy is:  1.0\n",
            "              precision    recall  f1-score   support\n",
            "\n",
            "      banana       1.00      1.00      1.00        20\n",
            "   blackgram       1.00      1.00      1.00        22\n",
            "    chickpea       1.00      1.00      1.00        21\n",
            "     coconut       1.00      1.00      1.00        19\n",
            "      coffee       1.00      1.00      1.00        21\n",
            "      cotton       1.00      1.00      1.00        22\n",
            "      grapes       1.00      1.00      1.00        13\n",
            "        jute       1.00      1.00      1.00        17\n",
            " kidneybeans       1.00      1.00      1.00        20\n",
            "      lentil       1.00      1.00      1.00        13\n",
            "       maize       1.00      1.00      1.00        18\n",
            "       mango       1.00      1.00      1.00        18\n",
            "   mothbeans       1.00      1.00      1.00        21\n",
            "    mungbean       1.00      1.00      1.00        23\n",
            "   muskmelon       1.00      1.00      1.00        24\n",
            "      orange       1.00      1.00      1.00        21\n",
            "      papaya       1.00      1.00      1.00        27\n",
            "  pigeonpeas       1.00      1.00      1.00        21\n",
            " pomegranate       1.00      1.00      1.00        18\n",
            "        rice       1.00      1.00      1.00        19\n",
            "  watermelon       1.00      1.00      1.00        22\n",
            "\n",
            "    accuracy                           1.00       420\n",
            "   macro avg       1.00      1.00      1.00       420\n",
            "weighted avg       1.00      1.00      1.00       420\n",
            "\n"
          ]
        }
      ]
    },
    {
      "cell_type": "code",
      "metadata": {
        "execution": {
          "iopub.execute_input": "2020-12-25T17:43:12.924064Z",
          "iopub.status.busy": "2020-12-25T17:43:12.923449Z",
          "iopub.status.idle": "2020-12-25T17:43:15.062976Z",
          "shell.execute_reply": "2020-12-25T17:43:15.063617Z"
        },
        "papermill": {
          "duration": 2.198243,
          "end_time": "2020-12-25T17:43:15.063762",
          "exception": false,
          "start_time": "2020-12-25T17:43:12.865519",
          "status": "completed"
        },
        "tags": [],
        "id": "tl-ynTShib7w",
        "colab": {
          "base_uri": "https://localhost:8080/"
        },
        "outputId": "23fb2608-7d3d-4b3a-e636-167a9cab49a9"
      },
      "source": [
        "# Cross validation score (XGBoost)\n",
        "score = cross_val_score(XB,features,target,cv=5)\n",
        "score"
      ],
      "execution_count": 155,
      "outputs": [
        {
          "output_type": "execute_result",
          "data": {
            "text/plain": [
              "array([0.98571429, 0.99047619, 0.9952381 , 0.99047619, 0.98333333])"
            ]
          },
          "metadata": {},
          "execution_count": 155
        }
      ]
    },
    {
      "cell_type": "markdown",
      "metadata": {
        "papermill": {
          "duration": 0.05128,
          "end_time": "2020-12-25T17:43:15.166714",
          "exception": false,
          "start_time": "2020-12-25T17:43:15.115434",
          "status": "completed"
        },
        "tags": [],
        "id": "rWYA3Y6Oib7w"
      },
      "source": [
        "### Saving trained XGBoost model"
      ]
    },
    {
      "cell_type": "code",
      "metadata": {
        "execution": {
          "iopub.execute_input": "2020-12-25T17:43:15.270778Z",
          "iopub.status.busy": "2020-12-25T17:43:15.270273Z",
          "iopub.status.idle": "2020-12-25T17:43:15.274049Z",
          "shell.execute_reply": "2020-12-25T17:43:15.273636Z"
        },
        "papermill": {
          "duration": 0.055826,
          "end_time": "2020-12-25T17:43:15.274152",
          "exception": false,
          "start_time": "2020-12-25T17:43:15.218326",
          "status": "completed"
        },
        "tags": [],
        "id": "FhbxWy4Wib7w"
      },
      "source": [
        "import pickle\n",
        "# Dump the trained Naive Bayes classifier with Pickle\n",
        "XB_pkl_filename = 'XGBoost.pkl'\n",
        "# Open the file to save as pkl file\n",
        "XB_Model_pkl = open(XB_pkl_filename, 'wb')\n",
        "pickle.dump(XB, XB_Model_pkl)\n",
        "# Close the pickle instances\n",
        "XB_Model_pkl.close()"
      ],
      "execution_count": 156,
      "outputs": []
    },
    {
      "cell_type": "markdown",
      "metadata": {
        "papermill": {
          "duration": 0.041321,
          "end_time": "2020-12-25T17:43:15.359816",
          "exception": false,
          "start_time": "2020-12-25T17:43:15.318495",
          "status": "completed"
        },
        "tags": [],
        "id": "aDdXnJFHib7w"
      },
      "source": [
        "## Accuracy Comparison"
      ]
    },
    {
      "cell_type": "code",
      "metadata": {
        "execution": {
          "iopub.execute_input": "2020-12-25T17:43:15.441385Z",
          "iopub.status.busy": "2020-12-25T17:43:15.440884Z",
          "iopub.status.idle": "2020-12-25T17:43:15.581323Z",
          "shell.execute_reply": "2020-12-25T17:43:15.581831Z"
        },
        "papermill": {
          "duration": 0.182519,
          "end_time": "2020-12-25T17:43:15.581943",
          "exception": false,
          "start_time": "2020-12-25T17:43:15.399424",
          "status": "completed"
        },
        "tags": [],
        "id": "4YLXIUS0ib7w",
        "colab": {
          "base_uri": "https://localhost:8080/",
          "height": 0
        },
        "outputId": "b8a2e663-a01b-4084-9952-f50ef70b8cb1"
      },
      "source": [
        "plt.figure(figsize=[10,5],dpi = 100)\n",
        "plt.title('Accuracy Comparison')\n",
        "plt.xlabel('Accuracy')\n",
        "plt.ylabel('Algorithm')\n",
        "sns.barplot(x = acc,y = model,palette='dark')"
      ],
      "execution_count": 157,
      "outputs": [
        {
          "output_type": "execute_result",
          "data": {
            "text/plain": [
              "<matplotlib.axes._subplots.AxesSubplot at 0x7f53fbb00690>"
            ]
          },
          "metadata": {},
          "execution_count": 157
        },
        {
          "output_type": "display_data",
          "data": {
            "image/png": "[encoded data removed]",
            "text/plain": [
              "<Figure size 1000x500 with 1 Axes>"
            ]
          },
          "metadata": {
            "needs_background": "light"
          }
        }
      ]
    },
    {
      "cell_type": "code",
      "metadata": {
        "execution": {
          "iopub.execute_input": "2020-12-25T17:43:15.669060Z",
          "iopub.status.busy": "2020-12-25T17:43:15.668535Z",
          "iopub.status.idle": "2020-12-25T17:43:15.672705Z",
          "shell.execute_reply": "2020-12-25T17:43:15.672183Z"
        },
        "papermill": {
          "duration": 0.050176,
          "end_time": "2020-12-25T17:43:15.672789",
          "exception": false,
          "start_time": "2020-12-25T17:43:15.622613",
          "status": "completed"
        },
        "tags": [],
        "id": "MfsaRQEdib7w",
        "colab": {
          "base_uri": "https://localhost:8080/"
        },
        "outputId": "a235a25d-f34f-485a-ff80-df5ecec266b8"
      },
      "source": [
        "accuracy_models = dict(zip(model, acc))\n",
        "for k, v in accuracy_models.items():\n",
        "    print (k, '-->', v)"
      ],
      "execution_count": 158,
      "outputs": [
        {
          "output_type": "stream",
          "name": "stdout",
          "text": [
            "Decision Tree --> 0.9261904761904762\n",
            "Naive Bayes --> 0.9904761904761905\n",
            "SVM --> 0.0880952380952381\n",
            "Logistic Regression --> 0.95\n",
            "RF --> 0.9880952380952381\n",
            "XGBoost --> 1.0\n"
          ]
        }
      ]
    },
    {
      "cell_type": "markdown",
      "metadata": {
        "papermill": {
          "duration": 0.041952,
          "end_time": "2020-12-25T17:43:15.756950",
          "exception": false,
          "start_time": "2020-12-25T17:43:15.714998",
          "status": "completed"
        },
        "tags": [],
        "id": "A8ENeDE0ib7w"
      },
      "source": [
        "## Making a prediction"
      ]
    },
    {
      "cell_type": "code",
      "metadata": {
        "execution": {
          "iopub.execute_input": "2020-12-25T17:43:15.847402Z",
          "iopub.status.busy": "2020-12-25T17:43:15.846830Z",
          "iopub.status.idle": "2020-12-25T17:43:15.850942Z",
          "shell.execute_reply": "2020-12-25T17:43:15.851479Z"
        },
        "papermill": {
          "duration": 0.051889,
          "end_time": "2020-12-25T17:43:15.851583",
          "exception": false,
          "start_time": "2020-12-25T17:43:15.799694",
          "status": "completed"
        },
        "tags": [],
        "id": "UTET7T7Yib7w",
        "colab": {
          "base_uri": "https://localhost:8080/"
        },
        "outputId": "45aa770d-4acd-4def-d910-b491ddb79b22"
      },
      "source": [
        "data = np.array([[10,18, 3, 13.603016, 50.3, 8.7, 130.98]])\n",
        "prediction = RF.predict(data)\n",
        "print(prediction)"
      ],
      "execution_count": 159,
      "outputs": [
        {
          "output_type": "stream",
          "name": "stdout",
          "text": [
            "['orange']\n"
          ]
        }
      ]
    },
    {
      "cell_type": "code",
      "metadata": {
        "execution": {
          "iopub.execute_input": "2020-12-25T17:43:15.937084Z",
          "iopub.status.busy": "2020-12-25T17:43:15.936591Z",
          "iopub.status.idle": "2020-12-25T17:43:15.943917Z",
          "shell.execute_reply": "2020-12-25T17:43:15.944404Z"
        },
        "papermill": {
          "duration": 0.051262,
          "end_time": "2020-12-25T17:43:15.944514",
          "exception": false,
          "start_time": "2020-12-25T17:43:15.893252",
          "status": "completed"
        },
        "tags": [],
        "id": "ihpnUTa5ib7w",
        "colab": {
          "base_uri": "https://localhost:8080/"
        },
        "outputId": "8df8e718-f438-4587-e501-612cf6fcddf1"
      },
      "source": [
        "data = np.array([[100, 65, 88, 40, 61.13, 17.4, 123.45]])\n",
        "prediction = RF.predict(data)\n",
        "print(prediction)"
      ],
      "execution_count": 160,
      "outputs": [
        {
          "output_type": "stream",
          "name": "stdout",
          "text": [
            "['coffee']\n"
          ]
        }
      ]
    },
    {
      "cell_type": "code",
      "metadata": {
        "id": "A-LHkCW1xI08"
      },
      "source": [
        ""
      ],
      "execution_count": 160,
      "outputs": []
    }
  ]
}