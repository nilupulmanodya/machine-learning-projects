{
 "cells": [
  {
   "cell_type": "code",
   "execution_count": 17,
   "metadata": {},
   "outputs": [],
   "source": [
    "import spacy"
   ]
  },
  {
   "cell_type": "code",
   "execution_count": 53,
   "metadata": {},
   "outputs": [
    {
     "name": "stdout",
     "output_type": "stream",
     "text": [
      "[('computing', 'FAC', 'foc')]\n",
      "[('b m e', 'COU', 'cbme'), ('bme', 'COU', 'cbme'), ('eng', 'FAC', 'foe')]\n"
     ]
    }
   ],
   "source": [
    "from spacy.lang.en import English\n",
    "\n",
    "nlp = English()\n",
    "ruler = nlp.add_pipe(\"entity_ruler\")\n",
    "#FAC : faculty\n",
    "    #foe : faculty of engineering\n",
    "    #foc : faculty of computing\n",
    "\n",
    "#COU : course\n",
    "    #ccs : Course computer science\n",
    "    #cbme : Course bio medical engineering\n",
    "\n",
    "#PLA : places\n",
    "    #aud : auditorium\n",
    "    #l1 : lec1 hall\n",
    "    #l2 :lec2 hall\n",
    "    #grd : ground\n",
    "    \n",
    "#EVT : events\n",
    "    #rbd : robotics day\n",
    "    #ine : invention exhibition\n",
    "\n",
    "#SPT : sports\n",
    "    #cri : cricket\n",
    "    #krt : karathe\n",
    "    \n",
    "patterns = [{\"label\": \"FAC\", \"pattern\": [{\"LOWER\":\"engineering\"}], \"id\": \"foe\"},\n",
    "            {\"label\": \"FAC\", \"pattern\": [{\"LOWER\":\"eng\"}], \"id\": \"foe\"},\n",
    "            {\"label\": \"FAC\", \"pattern\": [{\"LOWER\":\"foe\"}], \"id\": \"foe\"},\n",
    "            {\"label\": \"FAC\", \"pattern\": [{\"LOWER\": \"computing\"}], \"id\": \"foc\"},\n",
    "            {\"label\": \"FAC\", \"pattern\": [{\"LOWER\": \"com\"}], \"id\": \"foc\"},\n",
    "            {\"label\": \"FAC\", \"pattern\": [{\"LOWER\": \"foc\"}], \"id\": \"foc\"},\n",
    "           \n",
    "            {\"label\": \"COU\", \"pattern\": [{\"LOWER\":\"computer\"},{\"LOWER\":\"science\"}], \"id\": \"ccs\"},\n",
    "            {\"label\": \"COU\", \"pattern\": [{\"LOWER\":\"computer\"},{\"LOWER\":\"sci\"}], \"id\": \"ccs\"},\n",
    "            {\"label\": \"COU\", \"pattern\": [{\"LOWER\":\"com\"},{\"LOWER\":\"sci\"}], \"id\": \"ccs\"},\n",
    "            {\"label\": \"COU\", \"pattern\": [{\"LOWER\":\"cs\"}], \"id\": \"ccs\"},\n",
    "            {\"label\": \"COU\", \"pattern\": [{\"LOWER\":\"computerscience\"}], \"id\": \"ccs\"},\n",
    "            {\"label\": \"COU\", \"pattern\": [{\"LOWER\": \"bio\"},{\"LOWER\":\"medical\"},{\"LOWER\":\"engineering\"}], \"id\": \"cbme\"},\n",
    "            {\"label\": \"COU\", \"pattern\": [{\"LOWER\": \"bme\"}], \"id\": \"cbme\"},\n",
    "            {\"label\": \"COU\", \"pattern\": [{\"LOWER\": \"b\"},{\"LOWER\":\"m\"},{\"LOWER\":\"e\"}], \"id\": \"cbme\"},\n",
    "            {\"label\": \"COU\", \"pattern\": [{\"LOWER\": \"bio\"},{\"LOWER\":\"med\"},{\"LOWER\":\"eng\"}], \"id\": \"cbme\"},\n",
    "            {\"label\": \"COU\", \"pattern\": [{\"LOWER\": \"biomedicalengineering\"}], \"id\": \"cbme\"},\n",
    "           \n",
    "            {\"label\": \"PLA\", \"pattern\": [{\"LOWER\":\"lec1\"}], \"id\": \"l1\"},\n",
    "            {\"label\": \"PLA\", \"pattern\": [{\"LOWER\":\"lec\"},{\"LOWER\":\"1\"}], \"id\": \"l1\"},\n",
    "            {\"label\": \"PLA\", \"pattern\": [{\"LOWER\":\"l1\"}], \"id\": \"l1\"},\n",
    "            {\"label\": \"PLA\", \"pattern\": [{\"LOWER\":\"lec2\"}], \"id\": \"l2\"},\n",
    "            {\"label\": \"PLA\", \"pattern\": [{\"LOWER\":\"lec\"},{\"LOWER\":\"2\"}], \"id\": \"l2\"},\n",
    "            {\"label\": \"PLA\", \"pattern\": [{\"LOWER\":\"l2\"}], \"id\": \"l2\"},\n",
    "            {\"label\": \"PLA\", \"pattern\": [{\"LOWER\": \"auditorium\"}], \"id\": \"aud\"},\n",
    "            {\"label\": \"PLA\", \"pattern\": [{\"LOWER\": \"aud\"}], \"id\": \"aud\"},\n",
    "            {\"label\": \"PLA\", \"pattern\": [{\"LOWER\": \"audi\"}], \"id\": \"aud\"},\n",
    "            {\"label\": \"PLA\", \"pattern\": [{\"LOWER\": \"ground\"}], \"id\": \"grd\"},\n",
    "            {\"label\": \"PLA\", \"pattern\": [{\"LOWER\": \"grd\"}], \"id\": \"grd\"},\n",
    "            {\"label\": \"PLA\", \"pattern\": [{\"LOWER\": \"grnd\"}], \"id\": \"grd\"},\n",
    "           \n",
    "            {\"label\": \"EVT\", \"pattern\": [{\"LOWER\":\"robotics\"},{\"LOWER\":\"day\"}], \"id\": \"rbd\"},\n",
    "            {\"label\": \"EVT\", \"pattern\": [{\"LOWER\":\"rbt\"},{\"LOWER\":\"dy\"}], \"id\": \"rbd\"},\n",
    "            {\"label\": \"EVT\", \"pattern\": [{\"LOWER\":\"invention\"},{\"LOWER\":\"exhibition\"}], \"id\": \"ine\"},\n",
    "            {\"label\": \"EVT\", \"pattern\": [{\"LOWER\":\"inv\"},{\"LOWER\":\"exh\"}], \"id\": \"ine\"},\n",
    "            {\"label\": \"EVT\", \"pattern\": [{\"LOWER\":\"inven\"},{\"LOWER\":\"exh\"}], \"id\": \"ine\"},\n",
    "            {\"label\": \"EVT\", \"pattern\": [{\"LOWER\":\"inv\"},{\"LOWER\":\"exhibition\"}], \"id\": \"ine\"},\n",
    "            {\"label\": \"EVT\", \"pattern\": [{\"LOWER\":\"inventionexhibition\"}], \"id\": \"ine\"},\n",
    "            \n",
    "            {\"label\": \"SPT\", \"pattern\": [{\"LOWER\":\"cricket\"}], \"id\": \"cri\"},\n",
    "            {\"label\": \"SPT\", \"pattern\": [{\"LOWER\":\"cri\"}], \"id\": \"cri\"},\n",
    "            {\"label\": \"SPT\", \"pattern\": [{\"LOWER\":\"karate\"}], \"id\": \"krt\"},\n",
    "            {\"label\": \"SPT\", \"pattern\": [{\"LOWER\":\"karathe\"}], \"id\": \"krt\"}\n",
    "           ]\n",
    "\n",
    "ruler.add_patterns(patterns)\n",
    "\n",
    "doc1 = nlp(\"Tell c s me about faculty of computing is opening its \")\n",
    "print([(ent.text, ent.label_, ent.ent_id_) for ent in doc1.ents])\n",
    "\n",
    "doc2 = nlp(\"Tell me details about b m e bme e faculty of eng\")\n",
    "print([(ent.text, ent.label_, ent.ent_id_) for ent in doc2.ents])"
   ]
  },
  {
   "cell_type": "code",
   "execution_count": 58,
   "metadata": {},
   "outputs": [],
   "source": [
    "test_str_pla = \"How to go to auditorium How to go to Lec1 How to go to ground How to go to Lec2 Show me road to auditorium Show me road to lec1 Show me road to ground Show me road to lec2 how can i go to the auditorium how can i go to the lec1 how can i go to the ground how can i go to the lec2 navigate me to auditorium navigate me to lec1 navigate me to ground navigate me to lec2 tell me how to go to auditoriumtell me how to go to lec1  tell me how to go to ground tell me how to go to lec2\"\n",
    "test_str_cinfo = \"what are the career propect for bio medical engineering what are the career propect for computer science how about our future if I graduate with bio medical engineering how about our future if I graduate with computer scienceexplain career prospects for bio medical engineering explain career prospects for computer science what are the job oppertunities for bio medical engineering what are the job oppertunities for computer science which kind of jobs can i applied after done bio medical engineering which kind of jobs can i applied after done computer science tell me career propspects can you tell me career prospects what are the career prospects can you please let me know what can i do after graduate with bio medical engineering can you please let me know what can i do after graduate with computer science tell me what can i do after done bio medical engineering tell me what can i do after done computer science what are the job oppertunities for bio medical engineering what are the job oppertunities for computer science\"\n",
    "test_str_event_info =\"Tell me about events what are the events events details can you please tell me events details what are the events details tell me events details what are university events tell me please events details tell me about robotics day tell me about invention exhibition what happend in robotics day what happend in invention exhibition what is robotics day  what is invention exhibition what they do in robotics day what they do in invention exhibition please tell me details about robotics day please tell me details about invention exhibition\"\n",
    "test_sport_info =\"how to join cricket team how to join karathe team how to join university karathe team how to join university cricket team which will held the practice of karathe which will held the practice of cricket tell me about cricket team tell me about karathe team when is the cricket practice when is the karathe practice can you please tell me about sports how to join university sports tell me about university sports tell me sport facilities of university can i join sports how to join sport teams tell me about sports tell me about karathe tell me about cricket\"\n",
    "test_entry_info = \"what are the entry requirements for bio medical engineering what are the entry requirements for computer science tell me entry requirements for bio medical engineering tell me entry requirements for computer science requirements for bio medical engineering requirements for computer science what need to apply bio medical engineering what need to apply computer science how to eligible for bio medical engineering how to eligible for computer science what are the entry requirements for bio medical engineering\"\n",
    "test_reg_ingo = \"Register me to robotics day Register me to invention exhibition Register for robotics day S111 name is David Register for invention exhibition S101 name is David need to register robotics day need to register invention exhibition  need to register robotics day David S123 need to register invention exhibition David S546 Register to invention exhibition Lakmal S789 Register to robotics day Saranga S556 Register Akmal to robotics day can I register robotics day can I register invention exhibition Register Akmal to invention exhibition\"\n"
   ]
  },
  {
   "cell_type": "code",
   "execution_count": 59,
   "metadata": {},
   "outputs": [],
   "source": [
    "test_doc = test_str_pla + test_str_cinfo + test_str_event_info + test_sport_info + test_entry_info + test_reg_ingo"
   ]
  },
  {
   "cell_type": "code",
   "execution_count": 60,
   "metadata": {},
   "outputs": [
    {
     "data": {
      "text/plain": [
       "'How to go to auditorium How to go to Lec1 How to go to ground How to go to Lec2 Show me road to auditorium Show me road to lec1 Show me road to ground Show me road to lec2 how can i go to the auditorium how can i go to the lec1 how can i go to the ground how can i go to the lec2 navigate me to auditorium navigate me to lec1 navigate me to ground navigate me to lec2 tell me how to go to auditoriumtell me how to go to lec1  tell me how to go to ground tell me how to go to lec2what are the career propect for bio medical engineering what are the career propect for computer science how about our future if I graduate with bio medical engineering how about our future if I graduate with computer scienceexplain career prospects for bio medical engineering explain career prospects for computer science what are the job oppertunities for bio medical engineering what are the job oppertunities for computer science which kind of jobs can i applied after done bio medical engineering which kind of jobs can i applied after done computer science tell me career propspects can you tell me career prospects what are the career prospects can you please let me know what can i do after graduate with bio medical engineering can you please let me know what can i do after graduate with computer science tell me what can i do after done bio medical engineering tell me what can i do after done computer science what are the job oppertunities for bio medical engineering what are the job oppertunities for computer scienceTell me about events what are the events events details can you please tell me events details what are the events details tell me events details what are university events tell me please events details tell me about robotics day tell me about invention exhibition what happend in robotics day what happend in invention exhibition what is robotics day  what is invention exhibition what they do in robotics day what they do in invention exhibition please tell me details about robotics day please tell me details about invention exhibitionhow to join cricket team how to join karathe team how to join university karathe team how to join university cricket team which will held the practice of karathe which will held the practice of cricket tell me about cricket team tell me about karathe team when is the cricket practice when is the karathe practice can you please tell me about sports how to join university sports tell me about university sports tell me sport facilities of university can i join sports how to join sport teams tell me about sports tell me about karathe tell me about cricketwhat are the entry requirements for bio medical engineering what are the entry requirements for computer science tell me entry requirements for bio medical engineering tell me entry requirements for computer science requirements for bio medical engineering requirements for computer science what need to apply bio medical engineering what need to apply computer science how to eligible for bio medical engineering how to eligible for computer science what are the entry requirements for bio medical engineeringRegister me to robotics day Register me to invention exhibition Register for robotics day S111 name is David Register for invention exhibition S101 name is David need to register robotics day need to register invention exhibition  need to register robotics day David S123 need to register invention exhibition David S546 Register to invention exhibition Lakmal S789 Register to robotics day Saranga S556 Register Akmal to robotics day can I register robotics day can I register invention exhibition Register Akmal to invention exhibition'"
      ]
     },
     "execution_count": 60,
     "metadata": {},
     "output_type": "execute_result"
    }
   ],
   "source": [
    "test_doc"
   ]
  },
  {
   "cell_type": "code",
   "execution_count": 61,
   "metadata": {},
   "outputs": [
    {
     "name": "stdout",
     "output_type": "stream",
     "text": [
      "[('auditorium', 'PLA', 'aud'), ('Lec1', 'PLA', 'l1'), ('ground', 'PLA', 'grd'), ('Lec2', 'PLA', 'l2'), ('auditorium', 'PLA', 'aud'), ('lec1', 'PLA', 'l1'), ('ground', 'PLA', 'grd'), ('lec2', 'PLA', 'l2'), ('auditorium', 'PLA', 'aud'), ('lec1', 'PLA', 'l1'), ('ground', 'PLA', 'grd'), ('lec2', 'PLA', 'l2'), ('auditorium', 'PLA', 'aud'), ('lec1', 'PLA', 'l1'), ('ground', 'PLA', 'grd'), ('lec2', 'PLA', 'l2'), ('lec1', 'PLA', 'l1'), ('ground', 'PLA', 'grd'), ('bio medical engineering', 'COU', 'cbme'), ('computer science', 'COU', 'ccs'), ('bio medical engineering', 'COU', 'cbme'), ('bio medical engineering', 'COU', 'cbme'), ('computer science', 'COU', 'ccs'), ('bio medical engineering', 'COU', 'cbme'), ('computer science', 'COU', 'ccs'), ('bio medical engineering', 'COU', 'cbme'), ('computer science', 'COU', 'ccs'), ('bio medical engineering', 'COU', 'cbme'), ('computer science', 'COU', 'ccs'), ('bio medical engineering', 'COU', 'cbme'), ('computer science', 'COU', 'ccs'), ('bio medical engineering', 'COU', 'cbme'), ('robotics day', 'EVT', 'rbd'), ('invention exhibition', 'EVT', 'ine'), ('robotics day', 'EVT', 'rbd'), ('invention exhibition', 'EVT', 'ine'), ('robotics day', 'EVT', 'rbd'), ('invention exhibition', 'EVT', 'ine'), ('robotics day', 'EVT', 'rbd'), ('invention exhibition', 'EVT', 'ine'), ('robotics day', 'EVT', 'rbd'), ('cricket', 'SPT', 'cri'), ('karathe', 'SPT', 'krt'), ('karathe', 'SPT', 'krt'), ('cricket', 'SPT', 'cri'), ('karathe', 'SPT', 'krt'), ('cricket', 'SPT', 'cri'), ('cricket', 'SPT', 'cri'), ('karathe', 'SPT', 'krt'), ('cricket', 'SPT', 'cri'), ('karathe', 'SPT', 'krt'), ('karathe', 'SPT', 'krt'), ('bio medical engineering', 'COU', 'cbme'), ('computer science', 'COU', 'ccs'), ('bio medical engineering', 'COU', 'cbme'), ('computer science', 'COU', 'ccs'), ('bio medical engineering', 'COU', 'cbme'), ('computer science', 'COU', 'ccs'), ('bio medical engineering', 'COU', 'cbme'), ('computer science', 'COU', 'ccs'), ('bio medical engineering', 'COU', 'cbme'), ('computer science', 'COU', 'ccs'), ('robotics day', 'EVT', 'rbd'), ('invention exhibition', 'EVT', 'ine'), ('robotics day', 'EVT', 'rbd'), ('invention exhibition', 'EVT', 'ine'), ('robotics day', 'EVT', 'rbd'), ('invention exhibition', 'EVT', 'ine'), ('robotics day', 'EVT', 'rbd'), ('invention exhibition', 'EVT', 'ine'), ('invention exhibition', 'EVT', 'ine'), ('robotics day', 'EVT', 'rbd'), ('robotics day', 'EVT', 'rbd'), ('robotics day', 'EVT', 'rbd'), ('invention exhibition', 'EVT', 'ine'), ('invention exhibition', 'EVT', 'ine')]\n"
     ]
    }
   ],
   "source": [
    "doc_test = nlp(test_doc)\n",
    "print([(ent.text, ent.label_, ent.ent_id_) for ent in doc_test.ents])"
   ]
  },
  {
   "cell_type": "code",
   "execution_count": 62,
   "metadata": {},
   "outputs": [],
   "source": [
    "from spacy import displacy"
   ]
  },
  {
   "cell_type": "code",
   "execution_count": 63,
   "metadata": {},
   "outputs": [
    {
     "ename": "AttributeError",
     "evalue": "'spacy.tokens.doc.Doc' object has no attribute 'get'",
     "output_type": "error",
     "traceback": [
      "\u001b[0;31m---------------------------------------------------------------------------\u001b[0m",
      "\u001b[0;31mAttributeError\u001b[0m                            Traceback (most recent call last)",
      "\u001b[0;32m<ipython-input-63-42a1d8a196ca>\u001b[0m in \u001b[0;36m<module>\u001b[0;34m\u001b[0m\n\u001b[0;32m----> 1\u001b[0;31m \u001b[0mdisplacy\u001b[0m\u001b[0;34m.\u001b[0m\u001b[0mrender\u001b[0m\u001b[0;34m(\u001b[0m\u001b[0mdoc_test\u001b[0m\u001b[0;34m,\u001b[0m \u001b[0mstyle\u001b[0m\u001b[0;34m=\u001b[0m\u001b[0;34m\"ent\"\u001b[0m\u001b[0;34m,\u001b[0m \u001b[0mmanual\u001b[0m\u001b[0;34m=\u001b[0m\u001b[0;32mTrue\u001b[0m\u001b[0;34m)\u001b[0m\u001b[0;34m\u001b[0m\u001b[0;34m\u001b[0m\u001b[0m\n\u001b[0m",
      "\u001b[0;32m~/anaconda3/lib/python3.8/site-packages/spacy/displacy/__init__.py\u001b[0m in \u001b[0;36mrender\u001b[0;34m(docs, style, page, minify, jupyter, options, manual)\u001b[0m\n\u001b[1;32m     56\u001b[0m     \u001b[0mrenderer\u001b[0m \u001b[0;34m=\u001b[0m \u001b[0mrenderer_func\u001b[0m\u001b[0;34m(\u001b[0m\u001b[0moptions\u001b[0m\u001b[0;34m=\u001b[0m\u001b[0moptions\u001b[0m\u001b[0;34m)\u001b[0m\u001b[0;34m\u001b[0m\u001b[0;34m\u001b[0m\u001b[0m\n\u001b[1;32m     57\u001b[0m     \u001b[0mparsed\u001b[0m \u001b[0;34m=\u001b[0m \u001b[0;34m[\u001b[0m\u001b[0mconverter\u001b[0m\u001b[0;34m(\u001b[0m\u001b[0mdoc\u001b[0m\u001b[0;34m,\u001b[0m \u001b[0moptions\u001b[0m\u001b[0;34m)\u001b[0m \u001b[0;32mfor\u001b[0m \u001b[0mdoc\u001b[0m \u001b[0;32min\u001b[0m \u001b[0mdocs\u001b[0m\u001b[0;34m]\u001b[0m \u001b[0;32mif\u001b[0m \u001b[0;32mnot\u001b[0m \u001b[0mmanual\u001b[0m \u001b[0;32melse\u001b[0m \u001b[0mdocs\u001b[0m  \u001b[0;31m# type: ignore\u001b[0m\u001b[0;34m\u001b[0m\u001b[0;34m\u001b[0m\u001b[0m\n\u001b[0;32m---> 58\u001b[0;31m     \u001b[0m_html\u001b[0m\u001b[0;34m[\u001b[0m\u001b[0;34m\"parsed\"\u001b[0m\u001b[0;34m]\u001b[0m \u001b[0;34m=\u001b[0m \u001b[0mrenderer\u001b[0m\u001b[0;34m.\u001b[0m\u001b[0mrender\u001b[0m\u001b[0;34m(\u001b[0m\u001b[0mparsed\u001b[0m\u001b[0;34m,\u001b[0m \u001b[0mpage\u001b[0m\u001b[0;34m=\u001b[0m\u001b[0mpage\u001b[0m\u001b[0;34m,\u001b[0m \u001b[0mminify\u001b[0m\u001b[0;34m=\u001b[0m\u001b[0mminify\u001b[0m\u001b[0;34m)\u001b[0m\u001b[0;34m.\u001b[0m\u001b[0mstrip\u001b[0m\u001b[0;34m(\u001b[0m\u001b[0;34m)\u001b[0m  \u001b[0;31m# type: ignore\u001b[0m\u001b[0;34m\u001b[0m\u001b[0;34m\u001b[0m\u001b[0m\n\u001b[0m\u001b[1;32m     59\u001b[0m     \u001b[0mhtml\u001b[0m \u001b[0;34m=\u001b[0m \u001b[0m_html\u001b[0m\u001b[0;34m[\u001b[0m\u001b[0;34m\"parsed\"\u001b[0m\u001b[0;34m]\u001b[0m\u001b[0;34m\u001b[0m\u001b[0;34m\u001b[0m\u001b[0m\n\u001b[1;32m     60\u001b[0m     \u001b[0;32mif\u001b[0m \u001b[0mRENDER_WRAPPER\u001b[0m \u001b[0;32mis\u001b[0m \u001b[0;32mnot\u001b[0m \u001b[0;32mNone\u001b[0m\u001b[0;34m:\u001b[0m\u001b[0;34m\u001b[0m\u001b[0;34m\u001b[0m\u001b[0m\n",
      "\u001b[0;32m~/anaconda3/lib/python3.8/site-packages/spacy/displacy/render.py\u001b[0m in \u001b[0;36mrender\u001b[0;34m(self, parsed, page, minify)\u001b[0m\n\u001b[1;32m    287\u001b[0m         \u001b[0;32mfor\u001b[0m \u001b[0mi\u001b[0m\u001b[0;34m,\u001b[0m \u001b[0mp\u001b[0m \u001b[0;32min\u001b[0m \u001b[0menumerate\u001b[0m\u001b[0;34m(\u001b[0m\u001b[0mparsed\u001b[0m\u001b[0;34m)\u001b[0m\u001b[0;34m:\u001b[0m\u001b[0;34m\u001b[0m\u001b[0;34m\u001b[0m\u001b[0m\n\u001b[1;32m    288\u001b[0m             \u001b[0;32mif\u001b[0m \u001b[0mi\u001b[0m \u001b[0;34m==\u001b[0m \u001b[0;36m0\u001b[0m\u001b[0;34m:\u001b[0m\u001b[0;34m\u001b[0m\u001b[0;34m\u001b[0m\u001b[0m\n\u001b[0;32m--> 289\u001b[0;31m                 \u001b[0msettings\u001b[0m \u001b[0;34m=\u001b[0m \u001b[0mp\u001b[0m\u001b[0;34m.\u001b[0m\u001b[0mget\u001b[0m\u001b[0;34m(\u001b[0m\u001b[0;34m\"settings\"\u001b[0m\u001b[0;34m,\u001b[0m \u001b[0;34m{\u001b[0m\u001b[0;34m}\u001b[0m\u001b[0;34m)\u001b[0m\u001b[0;34m\u001b[0m\u001b[0;34m\u001b[0m\u001b[0m\n\u001b[0m\u001b[1;32m    290\u001b[0m                 \u001b[0mself\u001b[0m\u001b[0;34m.\u001b[0m\u001b[0mdirection\u001b[0m \u001b[0;34m=\u001b[0m \u001b[0msettings\u001b[0m\u001b[0;34m.\u001b[0m\u001b[0mget\u001b[0m\u001b[0;34m(\u001b[0m\u001b[0;34m\"direction\"\u001b[0m\u001b[0;34m,\u001b[0m \u001b[0mDEFAULT_DIR\u001b[0m\u001b[0;34m)\u001b[0m\u001b[0;34m\u001b[0m\u001b[0;34m\u001b[0m\u001b[0m\n\u001b[1;32m    291\u001b[0m                 \u001b[0mself\u001b[0m\u001b[0;34m.\u001b[0m\u001b[0mlang\u001b[0m \u001b[0;34m=\u001b[0m \u001b[0msettings\u001b[0m\u001b[0;34m.\u001b[0m\u001b[0mget\u001b[0m\u001b[0;34m(\u001b[0m\u001b[0;34m\"lang\"\u001b[0m\u001b[0;34m,\u001b[0m \u001b[0mDEFAULT_LANG\u001b[0m\u001b[0;34m)\u001b[0m\u001b[0;34m\u001b[0m\u001b[0;34m\u001b[0m\u001b[0m\n",
      "\u001b[0;31mAttributeError\u001b[0m: 'spacy.tokens.doc.Doc' object has no attribute 'get'"
     ]
    }
   ],
   "source": [
    "displacy.render(doc_test, style=\"ent\", manual=True)"
   ]
  },
  {
   "cell_type": "code",
   "execution_count": 39,
   "metadata": {},
   "outputs": [],
   "source": [
    "#BBentityRuler.py"
   ]
  },
  {
   "cell_type": "code",
   "execution_count": null,
   "metadata": {},
   "outputs": [],
   "source": []
  }
 ],
 "metadata": {
  "kernelspec": {
   "display_name": "Python 3",
   "language": "python",
   "name": "python3"
  },
  "language_info": {
   "codemirror_mode": {
    "name": "ipython",
    "version": 3
   },
   "file_extension": ".py",
   "mimetype": "text/x-python",
   "name": "python",
   "nbconvert_exporter": "python",
   "pygments_lexer": "ipython3",
   "version": "3.8.5"
  }
 },
 "nbformat": 4,
 "nbformat_minor": 4
}
